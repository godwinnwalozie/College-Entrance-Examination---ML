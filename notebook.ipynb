{
 "cells": [
  {
   "cell_type": "code",
   "execution_count": 1,
   "id": "d1f207b7-d0f8-4e77-ba7e-64516dd650d5",
   "metadata": {},
   "outputs": [],
   "source": [
    "import pandas as pd\n",
    "import numpy as np\n",
    "import matplotlib.pyplot as plt\n",
    "import seaborn as sns\n",
    "import os"
   ]
  },
  {
   "cell_type": "code",
   "execution_count": 29,
   "id": "211cc50f-0684-4e8f-a810-2eb1d154baa3",
   "metadata": {},
   "outputs": [
    {
     "data": {
      "text/plain": [
       "'/home/mazi/Data_Science_ML/College-Entrance-Examination---ML/data/majors.csv'"
      ]
     },
     "execution_count": 29,
     "metadata": {},
     "output_type": "execute_result"
    }
   ],
   "source": [
    "PATH = os.path.join(os.path.abspath(os.getcwd()),'data',\"majors.csv\")\n",
    "PATH"
   ]
  },
  {
   "cell_type": "code",
   "execution_count": 9,
   "id": "f29e5a57",
   "metadata": {},
   "outputs": [
    {
     "data": {
      "text/plain": [
       "'/home/mazi/Data_Science_ML/College-Entrance-Examination---ML'"
      ]
     },
     "execution_count": 9,
     "metadata": {},
     "output_type": "execute_result"
    }
   ],
   "source": [
    "file = os.getcwd()"
   ]
  },
  {
   "cell_type": "code",
   "execution_count": 26,
   "id": "235f548e-492d-4a66-b20d-d0df3bb4c7ed",
   "metadata": {},
   "outputs": [],
   "source": [
    "path = file + \"/data/majors.csv\""
   ]
  },
  {
   "cell_type": "markdown",
   "id": "ac71fa4c-f1ab-4ecd-8c2f-1cc2421d6579",
   "metadata": {},
   "source": [
    "# Lets look at the Univeristy Majors and scores"
   ]
  },
  {
   "cell_type": "code",
   "execution_count": 30,
   "id": "c482ac52",
   "metadata": {},
   "outputs": [],
   "source": [
    "majors = pd.read_csv(\"../College-Entrance-Examination---ML/data/majors.csv\")"
   ]
  },
  {
   "cell_type": "code",
   "execution_count": 31,
   "id": "72c4d439-0249-4b4c-98f7-83fd85c83dc1",
   "metadata": {},
   "outputs": [
    {
     "data": {
      "text/html": [
       "<div>\n",
       "<style scoped>\n",
       "    .dataframe tbody tr th:only-of-type {\n",
       "        vertical-align: middle;\n",
       "    }\n",
       "\n",
       "    .dataframe tbody tr th {\n",
       "        vertical-align: top;\n",
       "    }\n",
       "\n",
       "    .dataframe thead th {\n",
       "        text-align: right;\n",
       "    }\n",
       "</style>\n",
       "<table border=\"1\" class=\"dataframe\">\n",
       "  <thead>\n",
       "    <tr style=\"text-align: right;\">\n",
       "      <th></th>\n",
       "      <th>Unnamed: 0</th>\n",
       "      <th>id_major</th>\n",
       "      <th>id_university</th>\n",
       "      <th>type</th>\n",
       "      <th>major_name</th>\n",
       "      <th>capacity</th>\n",
       "    </tr>\n",
       "  </thead>\n",
       "  <tbody>\n",
       "    <tr>\n",
       "      <th>0</th>\n",
       "      <td>0</td>\n",
       "      <td>1111014</td>\n",
       "      <td>111</td>\n",
       "      <td>science</td>\n",
       "      <td>PENDIDIKAN DOKTER HEWAN</td>\n",
       "      <td>88</td>\n",
       "    </tr>\n",
       "    <tr>\n",
       "      <th>1</th>\n",
       "      <td>1</td>\n",
       "      <td>1111022</td>\n",
       "      <td>111</td>\n",
       "      <td>science</td>\n",
       "      <td>TEKNIK SIPIL</td>\n",
       "      <td>64</td>\n",
       "    </tr>\n",
       "    <tr>\n",
       "      <th>2</th>\n",
       "      <td>2</td>\n",
       "      <td>1111037</td>\n",
       "      <td>111</td>\n",
       "      <td>science</td>\n",
       "      <td>TEKNIK MESIN</td>\n",
       "      <td>48</td>\n",
       "    </tr>\n",
       "    <tr>\n",
       "      <th>3</th>\n",
       "      <td>3</td>\n",
       "      <td>1111045</td>\n",
       "      <td>111</td>\n",
       "      <td>science</td>\n",
       "      <td>TEKNIK KIMIA</td>\n",
       "      <td>48</td>\n",
       "    </tr>\n",
       "    <tr>\n",
       "      <th>4</th>\n",
       "      <td>4</td>\n",
       "      <td>1111053</td>\n",
       "      <td>111</td>\n",
       "      <td>science</td>\n",
       "      <td>ARSITEKTUR</td>\n",
       "      <td>48</td>\n",
       "    </tr>\n",
       "    <tr>\n",
       "      <th>...</th>\n",
       "      <td>...</td>\n",
       "      <td>...</td>\n",
       "      <td>...</td>\n",
       "      <td>...</td>\n",
       "      <td>...</td>\n",
       "      <td>...</td>\n",
       "    </tr>\n",
       "    <tr>\n",
       "      <th>3162</th>\n",
       "      <td>3162</td>\n",
       "      <td>9212011</td>\n",
       "      <td>921</td>\n",
       "      <td>humanities</td>\n",
       "      <td>EKONOMI PEMBANGUNAN</td>\n",
       "      <td>32</td>\n",
       "    </tr>\n",
       "    <tr>\n",
       "      <th>3163</th>\n",
       "      <td>3163</td>\n",
       "      <td>9212042</td>\n",
       "      <td>921</td>\n",
       "      <td>humanities</td>\n",
       "      <td>MANAJEMEN</td>\n",
       "      <td>32</td>\n",
       "    </tr>\n",
       "    <tr>\n",
       "      <th>3164</th>\n",
       "      <td>3164</td>\n",
       "      <td>9212057</td>\n",
       "      <td>921</td>\n",
       "      <td>humanities</td>\n",
       "      <td>AKUNTANSI</td>\n",
       "      <td>32</td>\n",
       "    </tr>\n",
       "    <tr>\n",
       "      <th>3165</th>\n",
       "      <td>3165</td>\n",
       "      <td>9212065</td>\n",
       "      <td>921</td>\n",
       "      <td>humanities</td>\n",
       "      <td>PENDIDIKAN BAHASA INDONESIA</td>\n",
       "      <td>16</td>\n",
       "    </tr>\n",
       "    <tr>\n",
       "      <th>3166</th>\n",
       "      <td>3166</td>\n",
       "      <td>9212073</td>\n",
       "      <td>921</td>\n",
       "      <td>humanities</td>\n",
       "      <td>PENDIDIKAN BAHASA INGGRIS</td>\n",
       "      <td>16</td>\n",
       "    </tr>\n",
       "  </tbody>\n",
       "</table>\n",
       "<p>3167 rows × 6 columns</p>\n",
       "</div>"
      ],
      "text/plain": [
       "      Unnamed: 0  id_major  id_university        type  \\\n",
       "0              0   1111014            111     science   \n",
       "1              1   1111022            111     science   \n",
       "2              2   1111037            111     science   \n",
       "3              3   1111045            111     science   \n",
       "4              4   1111053            111     science   \n",
       "...          ...       ...            ...         ...   \n",
       "3162        3162   9212011            921  humanities   \n",
       "3163        3163   9212042            921  humanities   \n",
       "3164        3164   9212057            921  humanities   \n",
       "3165        3165   9212065            921  humanities   \n",
       "3166        3166   9212073            921  humanities   \n",
       "\n",
       "                       major_name  capacity  \n",
       "0         PENDIDIKAN DOKTER HEWAN        88  \n",
       "1                    TEKNIK SIPIL        64  \n",
       "2                    TEKNIK MESIN        48  \n",
       "3                    TEKNIK KIMIA        48  \n",
       "4                      ARSITEKTUR        48  \n",
       "...                           ...       ...  \n",
       "3162          EKONOMI PEMBANGUNAN        32  \n",
       "3163                    MANAJEMEN        32  \n",
       "3164                    AKUNTANSI        32  \n",
       "3165  PENDIDIKAN BAHASA INDONESIA        16  \n",
       "3166    PENDIDIKAN BAHASA INGGRIS        16  \n",
       "\n",
       "[3167 rows x 6 columns]"
      ]
     },
     "execution_count": 31,
     "metadata": {},
     "output_type": "execute_result"
    }
   ],
   "source": [
    "majors"
   ]
  },
  {
   "cell_type": "code",
   "execution_count": null,
   "id": "a07b29f5-3079-48f5-93d6-1a11be16bea6",
   "metadata": {},
   "outputs": [],
   "source": []
  }
 ],
 "metadata": {
  "kernelspec": {
   "display_name": "Python 3 (ipykernel)",
   "language": "python",
   "name": "python3"
  },
  "language_info": {
   "codemirror_mode": {
    "name": "ipython",
    "version": 3
   },
   "file_extension": ".py",
   "mimetype": "text/x-python",
   "name": "python",
   "nbconvert_exporter": "python",
   "pygments_lexer": "ipython3",
   "version": "3.8.13"
  },
  "vscode": {
   "interpreter": {
    "hash": "686cb14c4d1b9c10293961ee2915b43d0c34036735ac88ced71396191e257b28"
   }
  }
 },
 "nbformat": 4,
 "nbformat_minor": 5
}
