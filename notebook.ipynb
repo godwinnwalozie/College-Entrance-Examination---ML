{
 "cells": [
  {
   "cell_type": "code",
   "execution_count": 43,
   "id": "d1f207b7-d0f8-4e77-ba7e-64516dd650d5",
   "metadata": {},
   "outputs": [],
   "source": [
    "import pandas as pd\n",
    "import numpy as np\n",
    "import matplotlib.pyplot as plt\n",
    "import seaborn as sns\n",
    "import os\n",
    "import squarify \n",
    "import plotly.express as px\n",
    "%matplotlib inline"
   ]
  },
  {
   "cell_type": "markdown",
   "id": "72c4d439-0249-4b4c-98f7-83fd85c83dc1",
   "metadata": {},
   "source": [
    "# EDA of the university majors"
   ]
  },
  {
   "cell_type": "code",
   "execution_count": 2,
   "id": "c482ac52",
   "metadata": {},
   "outputs": [],
   "source": [
    "majors = pd.read_csv(\"../College-Entrance-Examination---ML/data/majors.csv\")"
   ]
  },
  {
   "cell_type": "code",
   "execution_count": 3,
   "id": "a07b29f5-3079-48f5-93d6-1a11be16bea6",
   "metadata": {},
   "outputs": [
    {
     "data": {
      "text/html": [
       "<div>\n",
       "<style scoped>\n",
       "    .dataframe tbody tr th:only-of-type {\n",
       "        vertical-align: middle;\n",
       "    }\n",
       "\n",
       "    .dataframe tbody tr th {\n",
       "        vertical-align: top;\n",
       "    }\n",
       "\n",
       "    .dataframe thead th {\n",
       "        text-align: right;\n",
       "    }\n",
       "</style>\n",
       "<table border=\"1\" class=\"dataframe\">\n",
       "  <thead>\n",
       "    <tr style=\"text-align: right;\">\n",
       "      <th></th>\n",
       "      <th>Unnamed: 0</th>\n",
       "      <th>id_major</th>\n",
       "      <th>id_university</th>\n",
       "      <th>type</th>\n",
       "      <th>major_name</th>\n",
       "      <th>capacity</th>\n",
       "    </tr>\n",
       "  </thead>\n",
       "  <tbody>\n",
       "    <tr>\n",
       "      <th>0</th>\n",
       "      <td>0</td>\n",
       "      <td>1111014</td>\n",
       "      <td>111</td>\n",
       "      <td>science</td>\n",
       "      <td>PENDIDIKAN DOKTER HEWAN</td>\n",
       "      <td>88</td>\n",
       "    </tr>\n",
       "    <tr>\n",
       "      <th>1</th>\n",
       "      <td>1</td>\n",
       "      <td>1111022</td>\n",
       "      <td>111</td>\n",
       "      <td>science</td>\n",
       "      <td>TEKNIK SIPIL</td>\n",
       "      <td>64</td>\n",
       "    </tr>\n",
       "    <tr>\n",
       "      <th>2</th>\n",
       "      <td>2</td>\n",
       "      <td>1111037</td>\n",
       "      <td>111</td>\n",
       "      <td>science</td>\n",
       "      <td>TEKNIK MESIN</td>\n",
       "      <td>48</td>\n",
       "    </tr>\n",
       "    <tr>\n",
       "      <th>3</th>\n",
       "      <td>3</td>\n",
       "      <td>1111045</td>\n",
       "      <td>111</td>\n",
       "      <td>science</td>\n",
       "      <td>TEKNIK KIMIA</td>\n",
       "      <td>48</td>\n",
       "    </tr>\n",
       "    <tr>\n",
       "      <th>4</th>\n",
       "      <td>4</td>\n",
       "      <td>1111053</td>\n",
       "      <td>111</td>\n",
       "      <td>science</td>\n",
       "      <td>ARSITEKTUR</td>\n",
       "      <td>48</td>\n",
       "    </tr>\n",
       "  </tbody>\n",
       "</table>\n",
       "</div>"
      ],
      "text/plain": [
       "   Unnamed: 0  id_major  id_university     type               major_name  \\\n",
       "0           0   1111014            111  science  PENDIDIKAN DOKTER HEWAN   \n",
       "1           1   1111022            111  science             TEKNIK SIPIL   \n",
       "2           2   1111037            111  science             TEKNIK MESIN   \n",
       "3           3   1111045            111  science             TEKNIK KIMIA   \n",
       "4           4   1111053            111  science               ARSITEKTUR   \n",
       "\n",
       "   capacity  \n",
       "0        88  \n",
       "1        64  \n",
       "2        48  \n",
       "3        48  \n",
       "4        48  "
      ]
     },
     "execution_count": 3,
     "metadata": {},
     "output_type": "execute_result"
    }
   ],
   "source": [
    "majors.head()"
   ]
  },
  {
   "cell_type": "code",
   "execution_count": 4,
   "id": "d38dc037",
   "metadata": {},
   "outputs": [
    {
     "data": {
      "text/plain": [
       "Unnamed: 0       0\n",
       "id_major         0\n",
       "id_university    0\n",
       "type             0\n",
       "major_name       0\n",
       "capacity         0\n",
       "dtype: int64"
      ]
     },
     "execution_count": 4,
     "metadata": {},
     "output_type": "execute_result"
    }
   ],
   "source": [
    "majors.isna().sum()"
   ]
  },
  {
   "cell_type": "code",
   "execution_count": 5,
   "id": "10944fc4",
   "metadata": {},
   "outputs": [
    {
     "data": {
      "text/plain": [
       "Unnamed: 0        int64\n",
       "id_major          int64\n",
       "id_university     int64\n",
       "type             object\n",
       "major_name       object\n",
       "capacity          int64\n",
       "dtype: object"
      ]
     },
     "execution_count": 5,
     "metadata": {},
     "output_type": "execute_result"
    }
   ],
   "source": [
    "majors.dtypes"
   ]
  },
  {
   "cell_type": "code",
   "execution_count": 6,
   "id": "b7d724b3",
   "metadata": {},
   "outputs": [],
   "source": [
    "majors.drop([\"Unnamed: 0\"], axis = 1, inplace = True)"
   ]
  },
  {
   "cell_type": "code",
   "execution_count": 7,
   "id": "b0ba2639",
   "metadata": {},
   "outputs": [
    {
     "data": {
      "text/html": [
       "<div>\n",
       "<style scoped>\n",
       "    .dataframe tbody tr th:only-of-type {\n",
       "        vertical-align: middle;\n",
       "    }\n",
       "\n",
       "    .dataframe tbody tr th {\n",
       "        vertical-align: top;\n",
       "    }\n",
       "\n",
       "    .dataframe thead th {\n",
       "        text-align: right;\n",
       "    }\n",
       "</style>\n",
       "<table border=\"1\" class=\"dataframe\">\n",
       "  <thead>\n",
       "    <tr style=\"text-align: right;\">\n",
       "      <th></th>\n",
       "      <th>id_major</th>\n",
       "      <th>id_university</th>\n",
       "      <th>type</th>\n",
       "      <th>major_name</th>\n",
       "      <th>capacity</th>\n",
       "    </tr>\n",
       "  </thead>\n",
       "  <tbody>\n",
       "    <tr>\n",
       "      <th>0</th>\n",
       "      <td>1111014</td>\n",
       "      <td>111</td>\n",
       "      <td>science</td>\n",
       "      <td>PENDIDIKAN DOKTER HEWAN</td>\n",
       "      <td>88</td>\n",
       "    </tr>\n",
       "    <tr>\n",
       "      <th>1</th>\n",
       "      <td>1111022</td>\n",
       "      <td>111</td>\n",
       "      <td>science</td>\n",
       "      <td>TEKNIK SIPIL</td>\n",
       "      <td>64</td>\n",
       "    </tr>\n",
       "    <tr>\n",
       "      <th>2</th>\n",
       "      <td>1111037</td>\n",
       "      <td>111</td>\n",
       "      <td>science</td>\n",
       "      <td>TEKNIK MESIN</td>\n",
       "      <td>48</td>\n",
       "    </tr>\n",
       "    <tr>\n",
       "      <th>3</th>\n",
       "      <td>1111045</td>\n",
       "      <td>111</td>\n",
       "      <td>science</td>\n",
       "      <td>TEKNIK KIMIA</td>\n",
       "      <td>48</td>\n",
       "    </tr>\n",
       "    <tr>\n",
       "      <th>4</th>\n",
       "      <td>1111053</td>\n",
       "      <td>111</td>\n",
       "      <td>science</td>\n",
       "      <td>ARSITEKTUR</td>\n",
       "      <td>48</td>\n",
       "    </tr>\n",
       "    <tr>\n",
       "      <th>...</th>\n",
       "      <td>...</td>\n",
       "      <td>...</td>\n",
       "      <td>...</td>\n",
       "      <td>...</td>\n",
       "      <td>...</td>\n",
       "    </tr>\n",
       "    <tr>\n",
       "      <th>3162</th>\n",
       "      <td>9212011</td>\n",
       "      <td>921</td>\n",
       "      <td>humanities</td>\n",
       "      <td>EKONOMI PEMBANGUNAN</td>\n",
       "      <td>32</td>\n",
       "    </tr>\n",
       "    <tr>\n",
       "      <th>3163</th>\n",
       "      <td>9212042</td>\n",
       "      <td>921</td>\n",
       "      <td>humanities</td>\n",
       "      <td>MANAJEMEN</td>\n",
       "      <td>32</td>\n",
       "    </tr>\n",
       "    <tr>\n",
       "      <th>3164</th>\n",
       "      <td>9212057</td>\n",
       "      <td>921</td>\n",
       "      <td>humanities</td>\n",
       "      <td>AKUNTANSI</td>\n",
       "      <td>32</td>\n",
       "    </tr>\n",
       "    <tr>\n",
       "      <th>3165</th>\n",
       "      <td>9212065</td>\n",
       "      <td>921</td>\n",
       "      <td>humanities</td>\n",
       "      <td>PENDIDIKAN BAHASA INDONESIA</td>\n",
       "      <td>16</td>\n",
       "    </tr>\n",
       "    <tr>\n",
       "      <th>3166</th>\n",
       "      <td>9212073</td>\n",
       "      <td>921</td>\n",
       "      <td>humanities</td>\n",
       "      <td>PENDIDIKAN BAHASA INGGRIS</td>\n",
       "      <td>16</td>\n",
       "    </tr>\n",
       "  </tbody>\n",
       "</table>\n",
       "<p>3167 rows × 5 columns</p>\n",
       "</div>"
      ],
      "text/plain": [
       "      id_major  id_university        type                   major_name  \\\n",
       "0      1111014            111     science      PENDIDIKAN DOKTER HEWAN   \n",
       "1      1111022            111     science                 TEKNIK SIPIL   \n",
       "2      1111037            111     science                 TEKNIK MESIN   \n",
       "3      1111045            111     science                 TEKNIK KIMIA   \n",
       "4      1111053            111     science                   ARSITEKTUR   \n",
       "...        ...            ...         ...                          ...   \n",
       "3162   9212011            921  humanities          EKONOMI PEMBANGUNAN   \n",
       "3163   9212042            921  humanities                    MANAJEMEN   \n",
       "3164   9212057            921  humanities                    AKUNTANSI   \n",
       "3165   9212065            921  humanities  PENDIDIKAN BAHASA INDONESIA   \n",
       "3166   9212073            921  humanities    PENDIDIKAN BAHASA INGGRIS   \n",
       "\n",
       "      capacity  \n",
       "0           88  \n",
       "1           64  \n",
       "2           48  \n",
       "3           48  \n",
       "4           48  \n",
       "...        ...  \n",
       "3162        32  \n",
       "3163        32  \n",
       "3164        32  \n",
       "3165        16  \n",
       "3166        16  \n",
       "\n",
       "[3167 rows x 5 columns]"
      ]
     },
     "execution_count": 7,
     "metadata": {},
     "output_type": "execute_result"
    }
   ],
   "source": [
    "majors"
   ]
  },
  {
   "cell_type": "markdown",
   "id": "c42b9210",
   "metadata": {},
   "source": [
    "# Lets check the total capacity that each school can provide to students"
   ]
  },
  {
   "cell_type": "code",
   "execution_count": 8,
   "id": "b6ca0ad6",
   "metadata": {},
   "outputs": [
    {
     "data": {
      "text/html": [
       "<div>\n",
       "<style scoped>\n",
       "    .dataframe tbody tr th:only-of-type {\n",
       "        vertical-align: middle;\n",
       "    }\n",
       "\n",
       "    .dataframe tbody tr th {\n",
       "        vertical-align: top;\n",
       "    }\n",
       "\n",
       "    .dataframe thead th {\n",
       "        text-align: right;\n",
       "    }\n",
       "</style>\n",
       "<table border=\"1\" class=\"dataframe\">\n",
       "  <thead>\n",
       "    <tr style=\"text-align: right;\">\n",
       "      <th></th>\n",
       "      <th>capacity</th>\n",
       "    </tr>\n",
       "    <tr>\n",
       "      <th>id_university</th>\n",
       "      <th></th>\n",
       "    </tr>\n",
       "  </thead>\n",
       "  <tbody>\n",
       "    <tr>\n",
       "      <th>111</th>\n",
       "      <td>2824</td>\n",
       "    </tr>\n",
       "    <tr>\n",
       "      <th>112</th>\n",
       "      <td>2190</td>\n",
       "    </tr>\n",
       "    <tr>\n",
       "      <th>113</th>\n",
       "      <td>945</td>\n",
       "    </tr>\n",
       "    <tr>\n",
       "      <th>114</th>\n",
       "      <td>704</td>\n",
       "    </tr>\n",
       "    <tr>\n",
       "      <th>115</th>\n",
       "      <td>72</td>\n",
       "    </tr>\n",
       "    <tr>\n",
       "      <th>...</th>\n",
       "      <td>...</td>\n",
       "    </tr>\n",
       "    <tr>\n",
       "      <th>821</th>\n",
       "      <td>1272</td>\n",
       "    </tr>\n",
       "    <tr>\n",
       "      <th>911</th>\n",
       "      <td>894</td>\n",
       "    </tr>\n",
       "    <tr>\n",
       "      <th>912</th>\n",
       "      <td>1130</td>\n",
       "    </tr>\n",
       "    <tr>\n",
       "      <th>913</th>\n",
       "      <td>53</td>\n",
       "    </tr>\n",
       "    <tr>\n",
       "      <th>921</th>\n",
       "      <td>568</td>\n",
       "    </tr>\n",
       "  </tbody>\n",
       "</table>\n",
       "<p>85 rows × 1 columns</p>\n",
       "</div>"
      ],
      "text/plain": [
       "               capacity\n",
       "id_university          \n",
       "111                2824\n",
       "112                2190\n",
       "113                 945\n",
       "114                 704\n",
       "115                  72\n",
       "...                 ...\n",
       "821                1272\n",
       "911                 894\n",
       "912                1130\n",
       "913                  53\n",
       "921                 568\n",
       "\n",
       "[85 rows x 1 columns]"
      ]
     },
     "execution_count": 8,
     "metadata": {},
     "output_type": "execute_result"
    }
   ],
   "source": [
    "total_capacity = majors.loc[:,[\"id_university\", \"major_name\", \"capacity\"]].groupby([\"id_university\"]).sum()\n",
    "total_capacity"
   ]
  },
  {
   "cell_type": "code",
   "execution_count": 9,
   "id": "0d349569",
   "metadata": {},
   "outputs": [
    {
     "data": {
      "text/plain": [
       "2824"
      ]
     },
     "execution_count": 9,
     "metadata": {},
     "output_type": "execute_result"
    }
   ],
   "source": [
    "majors [majors.id_university == 111].capacity.sum()"
   ]
  },
  {
   "cell_type": "code",
   "execution_count": 10,
   "id": "1f093e24",
   "metadata": {},
   "outputs": [
    {
     "data": {
      "text/plain": [
       "162108"
      ]
     },
     "execution_count": 10,
     "metadata": {},
     "output_type": "execute_result"
    }
   ],
   "source": [
    "majors.capacity.sum()"
   ]
  },
  {
   "cell_type": "code",
   "execution_count": 11,
   "id": "26df9a38",
   "metadata": {},
   "outputs": [
    {
     "data": {
      "text/plain": [
       "major_name                  \n",
       "MANAJEMEN                       63\n",
       "AKUNTANSI                       59\n",
       "MATEMATIKA                      55\n",
       "BIOLOGI                         54\n",
       "KIMIA                           52\n",
       "                                ..\n",
       "PEND BHS, SATRA IND & DAERAH     1\n",
       "PEND BIOLOGI                     1\n",
       "PEND EKONOMI                     1\n",
       "PEND EKONOMI S1                  1\n",
       "TV DAN FILM                      1\n",
       "Length: 854, dtype: int64"
      ]
     },
     "execution_count": 11,
     "metadata": {},
     "output_type": "execute_result"
    }
   ],
   "source": [
    "# how many majors available\n",
    "majors.loc[:,['major_name']].value_counts()"
   ]
  },
  {
   "cell_type": "code",
   "execution_count": 12,
   "id": "0a87e63a",
   "metadata": {},
   "outputs": [],
   "source": [
    "majors_count = majors.major_name.value_counts()[:10]"
   ]
  },
  {
   "cell_type": "code",
   "execution_count": 45,
   "id": "1876e1d9",
   "metadata": {},
   "outputs": [
    {
     "data": {
      "application/vnd.plotly.v1+json": {
       "config": {
        "plotlyServerURL": "https://plot.ly"
       },
       "data": [
        {
         "alignmentgroup": "True",
         "hovertemplate": "variable=major_name<br>index=%{x}<br>value=%{y}<extra></extra>",
         "legendgroup": "major_name",
         "marker": {
          "color": "#636efa",
          "pattern": {
           "shape": ""
          }
         },
         "name": "major_name",
         "offsetgroup": "major_name",
         "orientation": "v",
         "showlegend": true,
         "textposition": "auto",
         "type": "bar",
         "x": [
          "MANAJEMEN",
          "AKUNTANSI",
          "MATEMATIKA",
          "BIOLOGI",
          "KIMIA",
          "TEKNIK SIPIL",
          "FISIKA",
          "TEKNIK ELEKTRO",
          "ILMU HUKUM",
          "ILMU KOMUNIKASI"
         ],
         "xaxis": "x",
         "y": [
          63,
          59,
          55,
          54,
          52,
          51,
          50,
          49,
          48,
          45
         ],
         "yaxis": "y"
        }
       ],
       "layout": {
        "barmode": "relative",
        "legend": {
         "title": {
          "text": "variable"
         },
         "tracegroupgap": 0
        },
        "margin": {
         "t": 60
        },
        "template": {
         "data": {
          "bar": [
           {
            "error_x": {
             "color": "#2a3f5f"
            },
            "error_y": {
             "color": "#2a3f5f"
            },
            "marker": {
             "line": {
              "color": "#E5ECF6",
              "width": 0.5
             },
             "pattern": {
              "fillmode": "overlay",
              "size": 10,
              "solidity": 0.2
             }
            },
            "type": "bar"
           }
          ],
          "barpolar": [
           {
            "marker": {
             "line": {
              "color": "#E5ECF6",
              "width": 0.5
             },
             "pattern": {
              "fillmode": "overlay",
              "size": 10,
              "solidity": 0.2
             }
            },
            "type": "barpolar"
           }
          ],
          "carpet": [
           {
            "aaxis": {
             "endlinecolor": "#2a3f5f",
             "gridcolor": "white",
             "linecolor": "white",
             "minorgridcolor": "white",
             "startlinecolor": "#2a3f5f"
            },
            "baxis": {
             "endlinecolor": "#2a3f5f",
             "gridcolor": "white",
             "linecolor": "white",
             "minorgridcolor": "white",
             "startlinecolor": "#2a3f5f"
            },
            "type": "carpet"
           }
          ],
          "choropleth": [
           {
            "colorbar": {
             "outlinewidth": 0,
             "ticks": ""
            },
            "type": "choropleth"
           }
          ],
          "contour": [
           {
            "colorbar": {
             "outlinewidth": 0,
             "ticks": ""
            },
            "colorscale": [
             [
              0,
              "#0d0887"
             ],
             [
              0.1111111111111111,
              "#46039f"
             ],
             [
              0.2222222222222222,
              "#7201a8"
             ],
             [
              0.3333333333333333,
              "#9c179e"
             ],
             [
              0.4444444444444444,
              "#bd3786"
             ],
             [
              0.5555555555555556,
              "#d8576b"
             ],
             [
              0.6666666666666666,
              "#ed7953"
             ],
             [
              0.7777777777777778,
              "#fb9f3a"
             ],
             [
              0.8888888888888888,
              "#fdca26"
             ],
             [
              1,
              "#f0f921"
             ]
            ],
            "type": "contour"
           }
          ],
          "contourcarpet": [
           {
            "colorbar": {
             "outlinewidth": 0,
             "ticks": ""
            },
            "type": "contourcarpet"
           }
          ],
          "heatmap": [
           {
            "colorbar": {
             "outlinewidth": 0,
             "ticks": ""
            },
            "colorscale": [
             [
              0,
              "#0d0887"
             ],
             [
              0.1111111111111111,
              "#46039f"
             ],
             [
              0.2222222222222222,
              "#7201a8"
             ],
             [
              0.3333333333333333,
              "#9c179e"
             ],
             [
              0.4444444444444444,
              "#bd3786"
             ],
             [
              0.5555555555555556,
              "#d8576b"
             ],
             [
              0.6666666666666666,
              "#ed7953"
             ],
             [
              0.7777777777777778,
              "#fb9f3a"
             ],
             [
              0.8888888888888888,
              "#fdca26"
             ],
             [
              1,
              "#f0f921"
             ]
            ],
            "type": "heatmap"
           }
          ],
          "heatmapgl": [
           {
            "colorbar": {
             "outlinewidth": 0,
             "ticks": ""
            },
            "colorscale": [
             [
              0,
              "#0d0887"
             ],
             [
              0.1111111111111111,
              "#46039f"
             ],
             [
              0.2222222222222222,
              "#7201a8"
             ],
             [
              0.3333333333333333,
              "#9c179e"
             ],
             [
              0.4444444444444444,
              "#bd3786"
             ],
             [
              0.5555555555555556,
              "#d8576b"
             ],
             [
              0.6666666666666666,
              "#ed7953"
             ],
             [
              0.7777777777777778,
              "#fb9f3a"
             ],
             [
              0.8888888888888888,
              "#fdca26"
             ],
             [
              1,
              "#f0f921"
             ]
            ],
            "type": "heatmapgl"
           }
          ],
          "histogram": [
           {
            "marker": {
             "pattern": {
              "fillmode": "overlay",
              "size": 10,
              "solidity": 0.2
             }
            },
            "type": "histogram"
           }
          ],
          "histogram2d": [
           {
            "colorbar": {
             "outlinewidth": 0,
             "ticks": ""
            },
            "colorscale": [
             [
              0,
              "#0d0887"
             ],
             [
              0.1111111111111111,
              "#46039f"
             ],
             [
              0.2222222222222222,
              "#7201a8"
             ],
             [
              0.3333333333333333,
              "#9c179e"
             ],
             [
              0.4444444444444444,
              "#bd3786"
             ],
             [
              0.5555555555555556,
              "#d8576b"
             ],
             [
              0.6666666666666666,
              "#ed7953"
             ],
             [
              0.7777777777777778,
              "#fb9f3a"
             ],
             [
              0.8888888888888888,
              "#fdca26"
             ],
             [
              1,
              "#f0f921"
             ]
            ],
            "type": "histogram2d"
           }
          ],
          "histogram2dcontour": [
           {
            "colorbar": {
             "outlinewidth": 0,
             "ticks": ""
            },
            "colorscale": [
             [
              0,
              "#0d0887"
             ],
             [
              0.1111111111111111,
              "#46039f"
             ],
             [
              0.2222222222222222,
              "#7201a8"
             ],
             [
              0.3333333333333333,
              "#9c179e"
             ],
             [
              0.4444444444444444,
              "#bd3786"
             ],
             [
              0.5555555555555556,
              "#d8576b"
             ],
             [
              0.6666666666666666,
              "#ed7953"
             ],
             [
              0.7777777777777778,
              "#fb9f3a"
             ],
             [
              0.8888888888888888,
              "#fdca26"
             ],
             [
              1,
              "#f0f921"
             ]
            ],
            "type": "histogram2dcontour"
           }
          ],
          "mesh3d": [
           {
            "colorbar": {
             "outlinewidth": 0,
             "ticks": ""
            },
            "type": "mesh3d"
           }
          ],
          "parcoords": [
           {
            "line": {
             "colorbar": {
              "outlinewidth": 0,
              "ticks": ""
             }
            },
            "type": "parcoords"
           }
          ],
          "pie": [
           {
            "automargin": true,
            "type": "pie"
           }
          ],
          "scatter": [
           {
            "fillpattern": {
             "fillmode": "overlay",
             "size": 10,
             "solidity": 0.2
            },
            "type": "scatter"
           }
          ],
          "scatter3d": [
           {
            "line": {
             "colorbar": {
              "outlinewidth": 0,
              "ticks": ""
             }
            },
            "marker": {
             "colorbar": {
              "outlinewidth": 0,
              "ticks": ""
             }
            },
            "type": "scatter3d"
           }
          ],
          "scattercarpet": [
           {
            "marker": {
             "colorbar": {
              "outlinewidth": 0,
              "ticks": ""
             }
            },
            "type": "scattercarpet"
           }
          ],
          "scattergeo": [
           {
            "marker": {
             "colorbar": {
              "outlinewidth": 0,
              "ticks": ""
             }
            },
            "type": "scattergeo"
           }
          ],
          "scattergl": [
           {
            "marker": {
             "colorbar": {
              "outlinewidth": 0,
              "ticks": ""
             }
            },
            "type": "scattergl"
           }
          ],
          "scattermapbox": [
           {
            "marker": {
             "colorbar": {
              "outlinewidth": 0,
              "ticks": ""
             }
            },
            "type": "scattermapbox"
           }
          ],
          "scatterpolar": [
           {
            "marker": {
             "colorbar": {
              "outlinewidth": 0,
              "ticks": ""
             }
            },
            "type": "scatterpolar"
           }
          ],
          "scatterpolargl": [
           {
            "marker": {
             "colorbar": {
              "outlinewidth": 0,
              "ticks": ""
             }
            },
            "type": "scatterpolargl"
           }
          ],
          "scatterternary": [
           {
            "marker": {
             "colorbar": {
              "outlinewidth": 0,
              "ticks": ""
             }
            },
            "type": "scatterternary"
           }
          ],
          "surface": [
           {
            "colorbar": {
             "outlinewidth": 0,
             "ticks": ""
            },
            "colorscale": [
             [
              0,
              "#0d0887"
             ],
             [
              0.1111111111111111,
              "#46039f"
             ],
             [
              0.2222222222222222,
              "#7201a8"
             ],
             [
              0.3333333333333333,
              "#9c179e"
             ],
             [
              0.4444444444444444,
              "#bd3786"
             ],
             [
              0.5555555555555556,
              "#d8576b"
             ],
             [
              0.6666666666666666,
              "#ed7953"
             ],
             [
              0.7777777777777778,
              "#fb9f3a"
             ],
             [
              0.8888888888888888,
              "#fdca26"
             ],
             [
              1,
              "#f0f921"
             ]
            ],
            "type": "surface"
           }
          ],
          "table": [
           {
            "cells": {
             "fill": {
              "color": "#EBF0F8"
             },
             "line": {
              "color": "white"
             }
            },
            "header": {
             "fill": {
              "color": "#C8D4E3"
             },
             "line": {
              "color": "white"
             }
            },
            "type": "table"
           }
          ]
         },
         "layout": {
          "annotationdefaults": {
           "arrowcolor": "#2a3f5f",
           "arrowhead": 0,
           "arrowwidth": 1
          },
          "autotypenumbers": "strict",
          "coloraxis": {
           "colorbar": {
            "outlinewidth": 0,
            "ticks": ""
           }
          },
          "colorscale": {
           "diverging": [
            [
             0,
             "#8e0152"
            ],
            [
             0.1,
             "#c51b7d"
            ],
            [
             0.2,
             "#de77ae"
            ],
            [
             0.3,
             "#f1b6da"
            ],
            [
             0.4,
             "#fde0ef"
            ],
            [
             0.5,
             "#f7f7f7"
            ],
            [
             0.6,
             "#e6f5d0"
            ],
            [
             0.7,
             "#b8e186"
            ],
            [
             0.8,
             "#7fbc41"
            ],
            [
             0.9,
             "#4d9221"
            ],
            [
             1,
             "#276419"
            ]
           ],
           "sequential": [
            [
             0,
             "#0d0887"
            ],
            [
             0.1111111111111111,
             "#46039f"
            ],
            [
             0.2222222222222222,
             "#7201a8"
            ],
            [
             0.3333333333333333,
             "#9c179e"
            ],
            [
             0.4444444444444444,
             "#bd3786"
            ],
            [
             0.5555555555555556,
             "#d8576b"
            ],
            [
             0.6666666666666666,
             "#ed7953"
            ],
            [
             0.7777777777777778,
             "#fb9f3a"
            ],
            [
             0.8888888888888888,
             "#fdca26"
            ],
            [
             1,
             "#f0f921"
            ]
           ],
           "sequentialminus": [
            [
             0,
             "#0d0887"
            ],
            [
             0.1111111111111111,
             "#46039f"
            ],
            [
             0.2222222222222222,
             "#7201a8"
            ],
            [
             0.3333333333333333,
             "#9c179e"
            ],
            [
             0.4444444444444444,
             "#bd3786"
            ],
            [
             0.5555555555555556,
             "#d8576b"
            ],
            [
             0.6666666666666666,
             "#ed7953"
            ],
            [
             0.7777777777777778,
             "#fb9f3a"
            ],
            [
             0.8888888888888888,
             "#fdca26"
            ],
            [
             1,
             "#f0f921"
            ]
           ]
          },
          "colorway": [
           "#636efa",
           "#EF553B",
           "#00cc96",
           "#ab63fa",
           "#FFA15A",
           "#19d3f3",
           "#FF6692",
           "#B6E880",
           "#FF97FF",
           "#FECB52"
          ],
          "font": {
           "color": "#2a3f5f"
          },
          "geo": {
           "bgcolor": "white",
           "lakecolor": "white",
           "landcolor": "#E5ECF6",
           "showlakes": true,
           "showland": true,
           "subunitcolor": "white"
          },
          "hoverlabel": {
           "align": "left"
          },
          "hovermode": "closest",
          "mapbox": {
           "style": "light"
          },
          "paper_bgcolor": "white",
          "plot_bgcolor": "#E5ECF6",
          "polar": {
           "angularaxis": {
            "gridcolor": "white",
            "linecolor": "white",
            "ticks": ""
           },
           "bgcolor": "#E5ECF6",
           "radialaxis": {
            "gridcolor": "white",
            "linecolor": "white",
            "ticks": ""
           }
          },
          "scene": {
           "xaxis": {
            "backgroundcolor": "#E5ECF6",
            "gridcolor": "white",
            "gridwidth": 2,
            "linecolor": "white",
            "showbackground": true,
            "ticks": "",
            "zerolinecolor": "white"
           },
           "yaxis": {
            "backgroundcolor": "#E5ECF6",
            "gridcolor": "white",
            "gridwidth": 2,
            "linecolor": "white",
            "showbackground": true,
            "ticks": "",
            "zerolinecolor": "white"
           },
           "zaxis": {
            "backgroundcolor": "#E5ECF6",
            "gridcolor": "white",
            "gridwidth": 2,
            "linecolor": "white",
            "showbackground": true,
            "ticks": "",
            "zerolinecolor": "white"
           }
          },
          "shapedefaults": {
           "line": {
            "color": "#2a3f5f"
           }
          },
          "ternary": {
           "aaxis": {
            "gridcolor": "white",
            "linecolor": "white",
            "ticks": ""
           },
           "baxis": {
            "gridcolor": "white",
            "linecolor": "white",
            "ticks": ""
           },
           "bgcolor": "#E5ECF6",
           "caxis": {
            "gridcolor": "white",
            "linecolor": "white",
            "ticks": ""
           }
          },
          "title": {
           "x": 0.05
          },
          "xaxis": {
           "automargin": true,
           "gridcolor": "white",
           "linecolor": "white",
           "ticks": "",
           "title": {
            "standoff": 15
           },
           "zerolinecolor": "white",
           "zerolinewidth": 2
          },
          "yaxis": {
           "automargin": true,
           "gridcolor": "white",
           "linecolor": "white",
           "ticks": "",
           "title": {
            "standoff": 15
           },
           "zerolinecolor": "white",
           "zerolinewidth": 2
          }
         }
        },
        "xaxis": {
         "anchor": "y",
         "domain": [
          0,
          1
         ],
         "title": {
          "text": "index"
         }
        },
        "yaxis": {
         "anchor": "x",
         "domain": [
          0,
          1
         ],
         "title": {
          "text": "value"
         }
        }
       }
      }
     },
     "metadata": {},
     "output_type": "display_data"
    }
   ],
   "source": [
    "fig = px.bar(majors_count)\n",
    "fig.show()"
   ]
  },
  {
   "cell_type": "code",
   "execution_count": 14,
   "id": "a324e47c",
   "metadata": {},
   "outputs": [
    {
     "data": {
      "text/plain": [
       "MANAJEMEN          63\n",
       "AKUNTANSI          59\n",
       "MATEMATIKA         55\n",
       "BIOLOGI            54\n",
       "KIMIA              52\n",
       "TEKNIK SIPIL       51\n",
       "FISIKA             50\n",
       "TEKNIK ELEKTRO     49\n",
       "ILMU HUKUM         48\n",
       "ILMU KOMUNIKASI    45\n",
       "Name: major_name, dtype: int64"
      ]
     },
     "execution_count": 14,
     "metadata": {},
     "output_type": "execute_result"
    },
    {
     "data": {
      "image/png": "[encoded data removed]",
      "text/plain": [
       "<Figure size 720x360 with 1 Axes>"
      ]
     },
     "metadata": {
      "needs_background": "light"
     },
     "output_type": "display_data"
    }
   ],
   "source": [
    "fig, ax = plt.subplots(1,figsize=(10, 5))\n",
    "majors_count.plot(kind = \"bar\")\n",
    "majors_count"
   ]
  },
  {
   "cell_type": "code",
   "execution_count": 15,
   "id": "bb1e8562",
   "metadata": {},
   "outputs": [
    {
     "data": {
      "text/plain": [
       "334    81\n",
       "372    75\n",
       "751    74\n",
       "356    69\n",
       "712    68\n",
       "       ..\n",
       "613    10\n",
       "172     9\n",
       "115     6\n",
       "335     5\n",
       "913     5\n",
       "Name: id_university, Length: 85, dtype: int64"
      ]
     },
     "execution_count": 15,
     "metadata": {},
     "output_type": "execute_result"
    }
   ],
   "source": [
    "# how many univerisities\n",
    "majors.id_university.value_counts()"
   ]
  },
  {
   "cell_type": "code",
   "execution_count": 16,
   "id": "e56c4aa0",
   "metadata": {},
   "outputs": [
    {
     "data": {
      "text/plain": [
       "<AxesSubplot:>"
      ]
     },
     "execution_count": 16,
     "metadata": {},
     "output_type": "execute_result"
    },
    {
     "data": {
      "image/png": "[encoded data removed]",
      "text/plain": [
       "<Figure size 720x360 with 1 Axes>"
      ]
     },
     "metadata": {
      "needs_background": "light"
     },
     "output_type": "display_data"
    }
   ],
   "source": [
    "fig,ax =plt.subplots(figsize = (10,5))\n",
    "squarify.plot(majors.id_university.value_counts(), label = majors.id_university.value_counts().index, pad = True)"
   ]
  },
  {
   "cell_type": "code",
   "execution_count": 17,
   "id": "91f63f1f",
   "metadata": {},
   "outputs": [
    {
     "data": {
      "text/html": [
       "<div>\n",
       "<style scoped>\n",
       "    .dataframe tbody tr th:only-of-type {\n",
       "        vertical-align: middle;\n",
       "    }\n",
       "\n",
       "    .dataframe tbody tr th {\n",
       "        vertical-align: top;\n",
       "    }\n",
       "\n",
       "    .dataframe thead th {\n",
       "        text-align: right;\n",
       "    }\n",
       "</style>\n",
       "<table border=\"1\" class=\"dataframe\">\n",
       "  <thead>\n",
       "    <tr style=\"text-align: right;\">\n",
       "      <th></th>\n",
       "      <th>id_university</th>\n",
       "      <th>university_name</th>\n",
       "    </tr>\n",
       "  </thead>\n",
       "  <tbody>\n",
       "    <tr>\n",
       "      <th>0</th>\n",
       "      <td>111</td>\n",
       "      <td>UNIVERSITAS SYIAH KUALA</td>\n",
       "    </tr>\n",
       "    <tr>\n",
       "      <th>1</th>\n",
       "      <td>112</td>\n",
       "      <td>UNIVERSITAS MALIKUSSALEH</td>\n",
       "    </tr>\n",
       "    <tr>\n",
       "      <th>2</th>\n",
       "      <td>113</td>\n",
       "      <td>UNIVERSITAS TEUKU UMAR</td>\n",
       "    </tr>\n",
       "    <tr>\n",
       "      <th>3</th>\n",
       "      <td>114</td>\n",
       "      <td>UNIVERSITAS SAMUDRA</td>\n",
       "    </tr>\n",
       "    <tr>\n",
       "      <th>4</th>\n",
       "      <td>115</td>\n",
       "      <td>ISBI ACEH</td>\n",
       "    </tr>\n",
       "    <tr>\n",
       "      <th>...</th>\n",
       "      <td>...</td>\n",
       "      <td>...</td>\n",
       "    </tr>\n",
       "    <tr>\n",
       "      <th>80</th>\n",
       "      <td>821</td>\n",
       "      <td>UNIVERSITAS KHAIRUN</td>\n",
       "    </tr>\n",
       "    <tr>\n",
       "      <th>81</th>\n",
       "      <td>911</td>\n",
       "      <td>UNIVERSITAS CENDERAWASIH</td>\n",
       "    </tr>\n",
       "    <tr>\n",
       "      <th>82</th>\n",
       "      <td>912</td>\n",
       "      <td>UNIVERSITAS MUSAMUS MERAUKE</td>\n",
       "    </tr>\n",
       "    <tr>\n",
       "      <th>83</th>\n",
       "      <td>913</td>\n",
       "      <td>ISBI TANAH PAPUA</td>\n",
       "    </tr>\n",
       "    <tr>\n",
       "      <th>84</th>\n",
       "      <td>921</td>\n",
       "      <td>UNIVERSITAS PAPUA</td>\n",
       "    </tr>\n",
       "  </tbody>\n",
       "</table>\n",
       "<p>85 rows × 2 columns</p>\n",
       "</div>"
      ],
      "text/plain": [
       "    id_university              university_name\n",
       "0             111      UNIVERSITAS SYIAH KUALA\n",
       "1             112     UNIVERSITAS MALIKUSSALEH\n",
       "2             113       UNIVERSITAS TEUKU UMAR\n",
       "3             114          UNIVERSITAS SAMUDRA\n",
       "4             115                    ISBI ACEH\n",
       "..            ...                          ...\n",
       "80            821          UNIVERSITAS KHAIRUN\n",
       "81            911     UNIVERSITAS CENDERAWASIH\n",
       "82            912  UNIVERSITAS MUSAMUS MERAUKE\n",
       "83            913             ISBI TANAH PAPUA\n",
       "84            921            UNIVERSITAS PAPUA\n",
       "\n",
       "[85 rows x 2 columns]"
      ]
     },
     "execution_count": 17,
     "metadata": {},
     "output_type": "execute_result"
    }
   ],
   "source": [
    "# EDA of the universities dataset\n",
    "university = pd.read_csv(\"../College-Entrance-Examination---ML/data/universities.csv\", index_col= False, usecols= [1,2])\n",
    "university"
   ]
  },
  {
   "cell_type": "code",
   "execution_count": 18,
   "id": "edc017a9",
   "metadata": {},
   "outputs": [
    {
     "data": {
      "text/plain": [
       "UNIVERSITAS SYIAH KUALA          1\n",
       "UNIVERSITAS TRUNOJOYO MADURA     1\n",
       "UNIVERSITAS BORNEO TARAKAN       1\n",
       "INSTITUT TEKNOLOGI KALIMANTAN    1\n",
       "UNIVERSITAS MULAWARMAN           1\n",
       "Name: university_name, dtype: int64"
      ]
     },
     "execution_count": 18,
     "metadata": {},
     "output_type": "execute_result"
    }
   ],
   "source": [
    "university.university_name.value_counts().head()"
   ]
  },
  {
   "cell_type": "code",
   "execution_count": 19,
   "id": "215c1c94",
   "metadata": {},
   "outputs": [
    {
     "data": {
      "text/plain": [
       "<AxesSubplot:>"
      ]
     },
     "execution_count": 19,
     "metadata": {},
     "output_type": "execute_result"
    },
    {
     "data": {
      "image/png": "[encoded data removed]",
      "text/plain": [
       "<Figure size 1440x648 with 1 Axes>"
      ]
     },
     "metadata": {
      "needs_background": "light"
     },
     "output_type": "display_data"
    }
   ],
   "source": [
    "fig, ax= plt.subplots(figsize= (20, 9))\n",
    "squarify.plot(university.university_name.value_counts(), label = university.university_name.value_counts().index, ax = ax)"
   ]
  },
  {
   "cell_type": "code",
   "execution_count": 20,
   "id": "3ec8eb9c",
   "metadata": {},
   "outputs": [
    {
     "data": {
      "text/html": [
       "<div>\n",
       "<style scoped>\n",
       "    .dataframe tbody tr th:only-of-type {\n",
       "        vertical-align: middle;\n",
       "    }\n",
       "\n",
       "    .dataframe tbody tr th {\n",
       "        vertical-align: top;\n",
       "    }\n",
       "\n",
       "    .dataframe thead th {\n",
       "        text-align: right;\n",
       "    }\n",
       "</style>\n",
       "<table border=\"1\" class=\"dataframe\">\n",
       "  <thead>\n",
       "    <tr style=\"text-align: right;\">\n",
       "      <th></th>\n",
       "      <th>id_first_major</th>\n",
       "      <th>id_first_university</th>\n",
       "      <th>id_second_major</th>\n",
       "      <th>id_second_university</th>\n",
       "      <th>id_user</th>\n",
       "      <th>score_eko</th>\n",
       "      <th>score_geo</th>\n",
       "      <th>score_kmb</th>\n",
       "      <th>score_kpu</th>\n",
       "      <th>score_kua</th>\n",
       "      <th>score_mat</th>\n",
       "      <th>score_ppu</th>\n",
       "      <th>score_sej</th>\n",
       "      <th>score_sos</th>\n",
       "    </tr>\n",
       "  </thead>\n",
       "  <tbody>\n",
       "    <tr>\n",
       "      <th>0</th>\n",
       "      <td>3322014</td>\n",
       "      <td>332</td>\n",
       "      <td>3532154</td>\n",
       "      <td>353</td>\n",
       "      <td>26</td>\n",
       "      <td>778</td>\n",
       "      <td>486</td>\n",
       "      <td>679</td>\n",
       "      <td>594</td>\n",
       "      <td>643</td>\n",
       "      <td>686</td>\n",
       "      <td>559</td>\n",
       "      <td>392</td>\n",
       "      <td>676</td>\n",
       "    </tr>\n",
       "    <tr>\n",
       "      <th>1</th>\n",
       "      <td>3212057</td>\n",
       "      <td>321</td>\n",
       "      <td>3322022</td>\n",
       "      <td>332</td>\n",
       "      <td>35</td>\n",
       "      <td>579</td>\n",
       "      <td>631</td>\n",
       "      <td>710</td>\n",
       "      <td>700</td>\n",
       "      <td>810</td>\n",
       "      <td>656</td>\n",
       "      <td>638</td>\n",
       "      <td>535</td>\n",
       "      <td>686</td>\n",
       "    </tr>\n",
       "    <tr>\n",
       "      <th>2</th>\n",
       "      <td>3722057</td>\n",
       "      <td>372</td>\n",
       "      <td>1912042</td>\n",
       "      <td>191</td>\n",
       "      <td>44</td>\n",
       "      <td>600</td>\n",
       "      <td>481</td>\n",
       "      <td>314</td>\n",
       "      <td>432</td>\n",
       "      <td>522</td>\n",
       "      <td>494</td>\n",
       "      <td>461</td>\n",
       "      <td>467</td>\n",
       "      <td>574</td>\n",
       "    </tr>\n",
       "    <tr>\n",
       "      <th>3</th>\n",
       "      <td>3212081</td>\n",
       "      <td>321</td>\n",
       "      <td>3212301</td>\n",
       "      <td>321</td>\n",
       "      <td>55</td>\n",
       "      <td>559</td>\n",
       "      <td>563</td>\n",
       "      <td>646</td>\n",
       "      <td>638</td>\n",
       "      <td>591</td>\n",
       "      <td>538</td>\n",
       "      <td>585</td>\n",
       "      <td>647</td>\n",
       "      <td>589</td>\n",
       "    </tr>\n",
       "    <tr>\n",
       "      <th>4</th>\n",
       "      <td>3812106</td>\n",
       "      <td>381</td>\n",
       "      <td>3852034</td>\n",
       "      <td>385</td>\n",
       "      <td>171</td>\n",
       "      <td>838</td>\n",
       "      <td>734</td>\n",
       "      <td>654</td>\n",
       "      <td>613</td>\n",
       "      <td>690</td>\n",
       "      <td>315</td>\n",
       "      <td>628</td>\n",
       "      <td>660</td>\n",
       "      <td>674</td>\n",
       "    </tr>\n",
       "  </tbody>\n",
       "</table>\n",
       "</div>"
      ],
      "text/plain": [
       "   id_first_major  id_first_university  id_second_major  id_second_university  \\\n",
       "0         3322014                  332          3532154                   353   \n",
       "1         3212057                  321          3322022                   332   \n",
       "2         3722057                  372          1912042                   191   \n",
       "3         3212081                  321          3212301                   321   \n",
       "4         3812106                  381          3852034                   385   \n",
       "\n",
       "   id_user  score_eko  score_geo  score_kmb  score_kpu  score_kua  score_mat  \\\n",
       "0       26        778        486        679        594        643        686   \n",
       "1       35        579        631        710        700        810        656   \n",
       "2       44        600        481        314        432        522        494   \n",
       "3       55        559        563        646        638        591        538   \n",
       "4      171        838        734        654        613        690        315   \n",
       "\n",
       "   score_ppu  score_sej  score_sos  \n",
       "0        559        392        676  \n",
       "1        638        535        686  \n",
       "2        461        467        574  \n",
       "3        585        647        589  \n",
       "4        628        660        674  "
      ]
     },
     "execution_count": 20,
     "metadata": {},
     "output_type": "execute_result"
    }
   ],
   "source": [
    "humanity_scores = pd.read_csv(\"../College-Entrance-Examination---ML/data/score_humanities.csv\")\n",
    "humanity_scores.drop([\"Unnamed: 0\"], axis = 1).head()"
   ]
  },
  {
   "cell_type": "code",
   "execution_count": 21,
   "id": "74af0abf",
   "metadata": {},
   "outputs": [],
   "source": [
    "# lets rename the columns for the humanity related subjects better identificatio of course areas\n",
    "humanity_scores.rename({\"score_eko\": \"economics\", \"score_geo\":\"geography\", \"score_kmb\" :\"Reading Compr. & Writing\"\\\n",
    "    ,\"score_kpu\": \"General Reasoning\",\"score_kua\": \"Quantitative Skills\",\"score_mat\":\"maths\",\"score_ppu\": \"General Knowledge & Understanding\",\\\n",
    "        \"score_sej\":\"history\", \"score_sos\":\"sociology\"}, axis = 1,  inplace = True)"
   ]
  },
  {
   "cell_type": "code",
   "execution_count": 22,
   "id": "5888a4e7",
   "metadata": {},
   "outputs": [
    {
     "data": {
      "text/html": [
       "<div>\n",
       "<style scoped>\n",
       "    .dataframe tbody tr th:only-of-type {\n",
       "        vertical-align: middle;\n",
       "    }\n",
       "\n",
       "    .dataframe tbody tr th {\n",
       "        vertical-align: top;\n",
       "    }\n",
       "\n",
       "    .dataframe thead th {\n",
       "        text-align: right;\n",
       "    }\n",
       "</style>\n",
       "<table border=\"1\" class=\"dataframe\">\n",
       "  <thead>\n",
       "    <tr style=\"text-align: right;\">\n",
       "      <th></th>\n",
       "      <th>Unnamed: 0</th>\n",
       "      <th>id_first_major</th>\n",
       "      <th>id_first_university</th>\n",
       "      <th>id_second_major</th>\n",
       "      <th>id_second_university</th>\n",
       "      <th>id_user</th>\n",
       "      <th>economics</th>\n",
       "      <th>geography</th>\n",
       "      <th>Reading Compr. &amp; Writing</th>\n",
       "      <th>General Reasoning</th>\n",
       "      <th>Quantitative Skills</th>\n",
       "      <th>maths</th>\n",
       "      <th>General Knowledge &amp; Understanding</th>\n",
       "      <th>history</th>\n",
       "      <th>sociology</th>\n",
       "    </tr>\n",
       "  </thead>\n",
       "  <tbody>\n",
       "    <tr>\n",
       "      <th>0</th>\n",
       "      <td>0</td>\n",
       "      <td>3322014</td>\n",
       "      <td>332</td>\n",
       "      <td>3532154</td>\n",
       "      <td>353</td>\n",
       "      <td>26</td>\n",
       "      <td>778</td>\n",
       "      <td>486</td>\n",
       "      <td>679</td>\n",
       "      <td>594</td>\n",
       "      <td>643</td>\n",
       "      <td>686</td>\n",
       "      <td>559</td>\n",
       "      <td>392</td>\n",
       "      <td>676</td>\n",
       "    </tr>\n",
       "    <tr>\n",
       "      <th>1</th>\n",
       "      <td>1</td>\n",
       "      <td>3212057</td>\n",
       "      <td>321</td>\n",
       "      <td>3322022</td>\n",
       "      <td>332</td>\n",
       "      <td>35</td>\n",
       "      <td>579</td>\n",
       "      <td>631</td>\n",
       "      <td>710</td>\n",
       "      <td>700</td>\n",
       "      <td>810</td>\n",
       "      <td>656</td>\n",
       "      <td>638</td>\n",
       "      <td>535</td>\n",
       "      <td>686</td>\n",
       "    </tr>\n",
       "    <tr>\n",
       "      <th>2</th>\n",
       "      <td>2</td>\n",
       "      <td>3722057</td>\n",
       "      <td>372</td>\n",
       "      <td>1912042</td>\n",
       "      <td>191</td>\n",
       "      <td>44</td>\n",
       "      <td>600</td>\n",
       "      <td>481</td>\n",
       "      <td>314</td>\n",
       "      <td>432</td>\n",
       "      <td>522</td>\n",
       "      <td>494</td>\n",
       "      <td>461</td>\n",
       "      <td>467</td>\n",
       "      <td>574</td>\n",
       "    </tr>\n",
       "    <tr>\n",
       "      <th>3</th>\n",
       "      <td>3</td>\n",
       "      <td>3212081</td>\n",
       "      <td>321</td>\n",
       "      <td>3212301</td>\n",
       "      <td>321</td>\n",
       "      <td>55</td>\n",
       "      <td>559</td>\n",
       "      <td>563</td>\n",
       "      <td>646</td>\n",
       "      <td>638</td>\n",
       "      <td>591</td>\n",
       "      <td>538</td>\n",
       "      <td>585</td>\n",
       "      <td>647</td>\n",
       "      <td>589</td>\n",
       "    </tr>\n",
       "    <tr>\n",
       "      <th>4</th>\n",
       "      <td>4</td>\n",
       "      <td>3812106</td>\n",
       "      <td>381</td>\n",
       "      <td>3852034</td>\n",
       "      <td>385</td>\n",
       "      <td>171</td>\n",
       "      <td>838</td>\n",
       "      <td>734</td>\n",
       "      <td>654</td>\n",
       "      <td>613</td>\n",
       "      <td>690</td>\n",
       "      <td>315</td>\n",
       "      <td>628</td>\n",
       "      <td>660</td>\n",
       "      <td>674</td>\n",
       "    </tr>\n",
       "  </tbody>\n",
       "</table>\n",
       "</div>"
      ],
      "text/plain": [
       "   Unnamed: 0  id_first_major  id_first_university  id_second_major  \\\n",
       "0           0         3322014                  332          3532154   \n",
       "1           1         3212057                  321          3322022   \n",
       "2           2         3722057                  372          1912042   \n",
       "3           3         3212081                  321          3212301   \n",
       "4           4         3812106                  381          3852034   \n",
       "\n",
       "   id_second_university  id_user  economics  geography  \\\n",
       "0                   353       26        778        486   \n",
       "1                   332       35        579        631   \n",
       "2                   191       44        600        481   \n",
       "3                   321       55        559        563   \n",
       "4                   385      171        838        734   \n",
       "\n",
       "   Reading Compr. & Writing  General Reasoning  Quantitative Skills  maths  \\\n",
       "0                       679                594                  643    686   \n",
       "1                       710                700                  810    656   \n",
       "2                       314                432                  522    494   \n",
       "3                       646                638                  591    538   \n",
       "4                       654                613                  690    315   \n",
       "\n",
       "   General Knowledge & Understanding  history  sociology  \n",
       "0                                559      392        676  \n",
       "1                                638      535        686  \n",
       "2                                461      467        574  \n",
       "3                                585      647        589  \n",
       "4                                628      660        674  "
      ]
     },
     "execution_count": 22,
     "metadata": {},
     "output_type": "execute_result"
    }
   ],
   "source": [
    "humanity_scores.head()"
   ]
  },
  {
   "cell_type": "code",
   "execution_count": 23,
   "id": "e7f03efd",
   "metadata": {},
   "outputs": [],
   "source": [
    "science_scores = pd.read_csv(\"../College-Entrance-Examination---ML/data/score_science.csv\")\n",
    "science_scores.drop([\"Unnamed: 0\"], axis = 1, inplace = True)"
   ]
  },
  {
   "cell_type": "code",
   "execution_count": 24,
   "id": "a0a13246",
   "metadata": {},
   "outputs": [],
   "source": [
    "# lets rename the columns for the science related subjects better identificatio of course areas\n",
    "science_scores.rename({\"score_bio\": \"biology\", \"score_fis\": \"physics\",\"score_kim\":\"chemistry\",\"score_kmb\": \\\n",
    "    \"Reading Compr. & Writing\",\"score_kpu\":\"General Reasoning\", \"score_kua\" : \"Quantitative Skills\" , \"score_mat\" :\"maths\", \"score_ppu\": \"General Knowledge & Understanding\"}, axis = 1, inplace = True)"
   ]
  },
  {
   "cell_type": "code",
   "execution_count": 25,
   "id": "c5f068fb",
   "metadata": {},
   "outputs": [
    {
     "data": {
      "text/html": [
       "<div>\n",
       "<style scoped>\n",
       "    .dataframe tbody tr th:only-of-type {\n",
       "        vertical-align: middle;\n",
       "    }\n",
       "\n",
       "    .dataframe tbody tr th {\n",
       "        vertical-align: top;\n",
       "    }\n",
       "\n",
       "    .dataframe thead th {\n",
       "        text-align: right;\n",
       "    }\n",
       "</style>\n",
       "<table border=\"1\" class=\"dataframe\">\n",
       "  <thead>\n",
       "    <tr style=\"text-align: right;\">\n",
       "      <th></th>\n",
       "      <th>id_first_major</th>\n",
       "      <th>id_first_university</th>\n",
       "      <th>id_second_major</th>\n",
       "      <th>id_second_university</th>\n",
       "      <th>id_user</th>\n",
       "      <th>biology</th>\n",
       "      <th>physics</th>\n",
       "      <th>chemistry</th>\n",
       "      <th>Reading Compr. &amp; Writing</th>\n",
       "      <th>General Reasoning</th>\n",
       "      <th>Quantitative Skills</th>\n",
       "      <th>maths</th>\n",
       "      <th>General Knowledge &amp; Understanding</th>\n",
       "    </tr>\n",
       "  </thead>\n",
       "  <tbody>\n",
       "    <tr>\n",
       "      <th>0</th>\n",
       "      <td>3321065</td>\n",
       "      <td>332</td>\n",
       "      <td>3331187</td>\n",
       "      <td>333</td>\n",
       "      <td>4</td>\n",
       "      <td>400</td>\n",
       "      <td>400</td>\n",
       "      <td>400</td>\n",
       "      <td>400</td>\n",
       "      <td>400</td>\n",
       "      <td>400</td>\n",
       "      <td>400</td>\n",
       "      <td>400</td>\n",
       "    </tr>\n",
       "    <tr>\n",
       "      <th>1</th>\n",
       "      <td>3211015</td>\n",
       "      <td>321</td>\n",
       "      <td>3611066</td>\n",
       "      <td>361</td>\n",
       "      <td>14</td>\n",
       "      <td>816</td>\n",
       "      <td>666</td>\n",
       "      <td>651</td>\n",
       "      <td>678</td>\n",
       "      <td>685</td>\n",
       "      <td>706</td>\n",
       "      <td>695</td>\n",
       "      <td>562</td>\n",
       "    </tr>\n",
       "    <tr>\n",
       "      <th>2</th>\n",
       "      <td>3721093</td>\n",
       "      <td>372</td>\n",
       "      <td>3551302</td>\n",
       "      <td>355</td>\n",
       "      <td>19</td>\n",
       "      <td>562</td>\n",
       "      <td>839</td>\n",
       "      <td>624</td>\n",
       "      <td>700</td>\n",
       "      <td>781</td>\n",
       "      <td>464</td>\n",
       "      <td>551</td>\n",
       "      <td>668</td>\n",
       "    </tr>\n",
       "    <tr>\n",
       "      <th>3</th>\n",
       "      <td>3321096</td>\n",
       "      <td>332</td>\n",
       "      <td>3551194</td>\n",
       "      <td>355</td>\n",
       "      <td>23</td>\n",
       "      <td>700</td>\n",
       "      <td>669</td>\n",
       "      <td>692</td>\n",
       "      <td>679</td>\n",
       "      <td>692</td>\n",
       "      <td>813</td>\n",
       "      <td>507</td>\n",
       "      <td>573</td>\n",
       "    </tr>\n",
       "    <tr>\n",
       "      <th>4</th>\n",
       "      <td>5211104</td>\n",
       "      <td>521</td>\n",
       "      <td>5211085</td>\n",
       "      <td>521</td>\n",
       "      <td>28</td>\n",
       "      <td>461</td>\n",
       "      <td>619</td>\n",
       "      <td>441</td>\n",
       "      <td>593</td>\n",
       "      <td>563</td>\n",
       "      <td>500</td>\n",
       "      <td>666</td>\n",
       "      <td>370</td>\n",
       "    </tr>\n",
       "  </tbody>\n",
       "</table>\n",
       "</div>"
      ],
      "text/plain": [
       "   id_first_major  id_first_university  id_second_major  id_second_university  \\\n",
       "0         3321065                  332          3331187                   333   \n",
       "1         3211015                  321          3611066                   361   \n",
       "2         3721093                  372          3551302                   355   \n",
       "3         3321096                  332          3551194                   355   \n",
       "4         5211104                  521          5211085                   521   \n",
       "\n",
       "   id_user  biology  physics  chemistry  Reading Compr. & Writing  \\\n",
       "0        4      400      400        400                       400   \n",
       "1       14      816      666        651                       678   \n",
       "2       19      562      839        624                       700   \n",
       "3       23      700      669        692                       679   \n",
       "4       28      461      619        441                       593   \n",
       "\n",
       "   General Reasoning  Quantitative Skills  maths  \\\n",
       "0                400                  400    400   \n",
       "1                685                  706    695   \n",
       "2                781                  464    551   \n",
       "3                692                  813    507   \n",
       "4                563                  500    666   \n",
       "\n",
       "   General Knowledge & Understanding  \n",
       "0                                400  \n",
       "1                                562  \n",
       "2                                668  \n",
       "3                                573  \n",
       "4                                370  "
      ]
     },
     "execution_count": 25,
     "metadata": {},
     "output_type": "execute_result"
    }
   ],
   "source": [
    "science_scores.head()"
   ]
  },
  {
   "cell_type": "markdown",
   "id": "bc29ade6",
   "metadata": {},
   "source": [
    "# lets define core subjects that are unique in the social science sand humanity courses"
   ]
  },
  {
   "cell_type": "code",
   "execution_count": 26,
   "id": "684c0a8a",
   "metadata": {},
   "outputs": [
    {
     "data": {
      "text/html": [
       "<div>\n",
       "<style scoped>\n",
       "    .dataframe tbody tr th:only-of-type {\n",
       "        vertical-align: middle;\n",
       "    }\n",
       "\n",
       "    .dataframe tbody tr th {\n",
       "        vertical-align: top;\n",
       "    }\n",
       "\n",
       "    .dataframe thead th {\n",
       "        text-align: right;\n",
       "    }\n",
       "</style>\n",
       "<table border=\"1\" class=\"dataframe\">\n",
       "  <thead>\n",
       "    <tr style=\"text-align: right;\">\n",
       "      <th></th>\n",
       "      <th>Reading Compr. &amp; Writing</th>\n",
       "      <th>General Reasoning</th>\n",
       "      <th>Quantitative Skills</th>\n",
       "      <th>maths</th>\n",
       "      <th>General Knowledge &amp; Understanding</th>\n",
       "      <th>history</th>\n",
       "      <th>sociology</th>\n",
       "    </tr>\n",
       "  </thead>\n",
       "  <tbody>\n",
       "    <tr>\n",
       "      <th>0</th>\n",
       "      <td>679</td>\n",
       "      <td>594</td>\n",
       "      <td>643</td>\n",
       "      <td>686</td>\n",
       "      <td>559</td>\n",
       "      <td>392</td>\n",
       "      <td>676</td>\n",
       "    </tr>\n",
       "    <tr>\n",
       "      <th>1</th>\n",
       "      <td>710</td>\n",
       "      <td>700</td>\n",
       "      <td>810</td>\n",
       "      <td>656</td>\n",
       "      <td>638</td>\n",
       "      <td>535</td>\n",
       "      <td>686</td>\n",
       "    </tr>\n",
       "    <tr>\n",
       "      <th>2</th>\n",
       "      <td>314</td>\n",
       "      <td>432</td>\n",
       "      <td>522</td>\n",
       "      <td>494</td>\n",
       "      <td>461</td>\n",
       "      <td>467</td>\n",
       "      <td>574</td>\n",
       "    </tr>\n",
       "    <tr>\n",
       "      <th>3</th>\n",
       "      <td>646</td>\n",
       "      <td>638</td>\n",
       "      <td>591</td>\n",
       "      <td>538</td>\n",
       "      <td>585</td>\n",
       "      <td>647</td>\n",
       "      <td>589</td>\n",
       "    </tr>\n",
       "    <tr>\n",
       "      <th>4</th>\n",
       "      <td>654</td>\n",
       "      <td>613</td>\n",
       "      <td>690</td>\n",
       "      <td>315</td>\n",
       "      <td>628</td>\n",
       "      <td>660</td>\n",
       "      <td>674</td>\n",
       "    </tr>\n",
       "  </tbody>\n",
       "</table>\n",
       "</div>"
      ],
      "text/plain": [
       "   Reading Compr. & Writing  General Reasoning  Quantitative Skills  maths  \\\n",
       "0                       679                594                  643    686   \n",
       "1                       710                700                  810    656   \n",
       "2                       314                432                  522    494   \n",
       "3                       646                638                  591    538   \n",
       "4                       654                613                  690    315   \n",
       "\n",
       "   General Knowledge & Understanding  history  sociology  \n",
       "0                                559      392        676  \n",
       "1                                638      535        686  \n",
       "2                                461      467        574  \n",
       "3                                585      647        589  \n",
       "4                                628      660        674  "
      ]
     },
     "execution_count": 26,
     "metadata": {},
     "output_type": "execute_result"
    }
   ],
   "source": [
    "# They are Reading Compr. & Writing, General Reasoning, Quantitative skills , maths and General Knowledge & Understanding\n",
    "humanity_scores.iloc[:,-7:].head()"
   ]
  },
  {
   "cell_type": "code",
   "execution_count": 27,
   "id": "790453e7",
   "metadata": {},
   "outputs": [
    {
     "data": {
      "text/html": [
       "<div>\n",
       "<style scoped>\n",
       "    .dataframe tbody tr th:only-of-type {\n",
       "        vertical-align: middle;\n",
       "    }\n",
       "\n",
       "    .dataframe tbody tr th {\n",
       "        vertical-align: top;\n",
       "    }\n",
       "\n",
       "    .dataframe thead th {\n",
       "        text-align: right;\n",
       "    }\n",
       "</style>\n",
       "<table border=\"1\" class=\"dataframe\">\n",
       "  <thead>\n",
       "    <tr style=\"text-align: right;\">\n",
       "      <th></th>\n",
       "      <th>physics</th>\n",
       "      <th>chemistry</th>\n",
       "      <th>Reading Compr. &amp; Writing</th>\n",
       "      <th>General Reasoning</th>\n",
       "      <th>Quantitative Skills</th>\n",
       "      <th>maths</th>\n",
       "      <th>General Knowledge &amp; Understanding</th>\n",
       "    </tr>\n",
       "  </thead>\n",
       "  <tbody>\n",
       "    <tr>\n",
       "      <th>0</th>\n",
       "      <td>400</td>\n",
       "      <td>400</td>\n",
       "      <td>400</td>\n",
       "      <td>400</td>\n",
       "      <td>400</td>\n",
       "      <td>400</td>\n",
       "      <td>400</td>\n",
       "    </tr>\n",
       "    <tr>\n",
       "      <th>1</th>\n",
       "      <td>666</td>\n",
       "      <td>651</td>\n",
       "      <td>678</td>\n",
       "      <td>685</td>\n",
       "      <td>706</td>\n",
       "      <td>695</td>\n",
       "      <td>562</td>\n",
       "    </tr>\n",
       "    <tr>\n",
       "      <th>2</th>\n",
       "      <td>839</td>\n",
       "      <td>624</td>\n",
       "      <td>700</td>\n",
       "      <td>781</td>\n",
       "      <td>464</td>\n",
       "      <td>551</td>\n",
       "      <td>668</td>\n",
       "    </tr>\n",
       "    <tr>\n",
       "      <th>3</th>\n",
       "      <td>669</td>\n",
       "      <td>692</td>\n",
       "      <td>679</td>\n",
       "      <td>692</td>\n",
       "      <td>813</td>\n",
       "      <td>507</td>\n",
       "      <td>573</td>\n",
       "    </tr>\n",
       "    <tr>\n",
       "      <th>4</th>\n",
       "      <td>619</td>\n",
       "      <td>441</td>\n",
       "      <td>593</td>\n",
       "      <td>563</td>\n",
       "      <td>500</td>\n",
       "      <td>666</td>\n",
       "      <td>370</td>\n",
       "    </tr>\n",
       "  </tbody>\n",
       "</table>\n",
       "</div>"
      ],
      "text/plain": [
       "   physics  chemistry  Reading Compr. & Writing  General Reasoning  \\\n",
       "0      400        400                       400                400   \n",
       "1      666        651                       678                685   \n",
       "2      839        624                       700                781   \n",
       "3      669        692                       679                692   \n",
       "4      619        441                       593                563   \n",
       "\n",
       "   Quantitative Skills  maths  General Knowledge & Understanding  \n",
       "0                  400    400                                400  \n",
       "1                  706    695                                562  \n",
       "2                  464    551                                668  \n",
       "3                  813    507                                573  \n",
       "4                  500    666                                370  "
      ]
     },
     "execution_count": 27,
     "metadata": {},
     "output_type": "execute_result"
    }
   ],
   "source": [
    "# They are Reading Compr. & Writing, General Reasoning, Quantitative skills , maths and General Knowledge & Understanding\n",
    "science_scores.iloc[:,-7:].head()"
   ]
  },
  {
   "cell_type": "code",
   "execution_count": 28,
   "id": "209d4ac9",
   "metadata": {},
   "outputs": [
    {
     "name": "stdout",
     "output_type": "stream",
     "text": [
      "['id_first_major', 'id_first_university', 'id_second_major', 'id_second_university', 'id_user', 'Reading Compr. & Writing', 'General Reasoning', 'Quantitative Skills', 'maths', 'General Knowledge & Understanding']\n"
     ]
    }
   ],
   "source": [
    "equal = []\n",
    "for h in humanity_scores.columns:\n",
    "    for s in science_scores.columns:\n",
    "        if h == s:\n",
    "            equal.append(h)\n",
    "        else:\n",
    "            pass\n",
    "print(equal)"
   ]
  },
  {
   "cell_type": "markdown",
   "id": "081db1d4",
   "metadata": {},
   "source": [
    "We have isolated the compulsory or common subjects, s we will analysis to find the mean"
   ]
  },
  {
   "cell_type": "code",
   "execution_count": 29,
   "id": "a074e0f1",
   "metadata": {},
   "outputs": [],
   "source": [
    "# find the eman of\n",
    "hum_com = humanity_scores.loc[:,['id_first_major', 'id_first_university', 'id_second_major', 'id_second_university', 'id_user', 'Reading Compr. & Writing', 'General Reasoning', 'Quantitative Skills', 'maths', 'General Knowledge & Understanding']]"
   ]
  },
  {
   "cell_type": "code",
   "execution_count": 30,
   "id": "f97d8111",
   "metadata": {},
   "outputs": [],
   "source": [
    "sci_com = science_scores.loc[:,['id_first_major', 'id_first_university', 'id_second_major', 'id_second_university', 'id_user', 'Reading Compr. & Writing', 'General Reasoning', 'Quantitative Skills', 'maths', 'General Knowledge & Understanding']]"
   ]
  },
  {
   "cell_type": "code",
   "execution_count": 31,
   "id": "f027d3e6",
   "metadata": {},
   "outputs": [
    {
     "data": {
      "text/html": [
       "<div>\n",
       "<style scoped>\n",
       "    .dataframe tbody tr th:only-of-type {\n",
       "        vertical-align: middle;\n",
       "    }\n",
       "\n",
       "    .dataframe tbody tr th {\n",
       "        vertical-align: top;\n",
       "    }\n",
       "\n",
       "    .dataframe thead th {\n",
       "        text-align: right;\n",
       "    }\n",
       "</style>\n",
       "<table border=\"1\" class=\"dataframe\">\n",
       "  <thead>\n",
       "    <tr style=\"text-align: right;\">\n",
       "      <th></th>\n",
       "      <th>id_first_major_x</th>\n",
       "      <th>id_first_university_x</th>\n",
       "      <th>id_second_major_x</th>\n",
       "      <th>id_second_university_x</th>\n",
       "      <th>id_user_x</th>\n",
       "      <th>Reading Compr. &amp; Writing_x</th>\n",
       "      <th>General Reasoning_x</th>\n",
       "      <th>Quantitative Skills_x</th>\n",
       "      <th>maths_x</th>\n",
       "      <th>General Knowledge &amp; Understanding_x</th>\n",
       "      <th>id_first_major_y</th>\n",
       "      <th>id_first_university_y</th>\n",
       "      <th>id_second_major_y</th>\n",
       "      <th>id_second_university_y</th>\n",
       "      <th>id_user_y</th>\n",
       "      <th>Reading Compr. &amp; Writing_y</th>\n",
       "      <th>General Reasoning_y</th>\n",
       "      <th>Quantitative Skills_y</th>\n",
       "      <th>maths_y</th>\n",
       "      <th>General Knowledge &amp; Understanding_y</th>\n",
       "    </tr>\n",
       "  </thead>\n",
       "  <tbody>\n",
       "    <tr>\n",
       "      <th>0</th>\n",
       "      <td>3322014.0</td>\n",
       "      <td>332.0</td>\n",
       "      <td>3532154.0</td>\n",
       "      <td>353.0</td>\n",
       "      <td>26.0</td>\n",
       "      <td>679.0</td>\n",
       "      <td>594.0</td>\n",
       "      <td>643.0</td>\n",
       "      <td>686.0</td>\n",
       "      <td>559.0</td>\n",
       "      <td>3321065</td>\n",
       "      <td>332</td>\n",
       "      <td>3331187</td>\n",
       "      <td>333</td>\n",
       "      <td>4</td>\n",
       "      <td>400</td>\n",
       "      <td>400</td>\n",
       "      <td>400</td>\n",
       "      <td>400</td>\n",
       "      <td>400</td>\n",
       "    </tr>\n",
       "    <tr>\n",
       "      <th>1</th>\n",
       "      <td>3212057.0</td>\n",
       "      <td>321.0</td>\n",
       "      <td>3322022.0</td>\n",
       "      <td>332.0</td>\n",
       "      <td>35.0</td>\n",
       "      <td>710.0</td>\n",
       "      <td>700.0</td>\n",
       "      <td>810.0</td>\n",
       "      <td>656.0</td>\n",
       "      <td>638.0</td>\n",
       "      <td>3211015</td>\n",
       "      <td>321</td>\n",
       "      <td>3611066</td>\n",
       "      <td>361</td>\n",
       "      <td>14</td>\n",
       "      <td>678</td>\n",
       "      <td>685</td>\n",
       "      <td>706</td>\n",
       "      <td>695</td>\n",
       "      <td>562</td>\n",
       "    </tr>\n",
       "    <tr>\n",
       "      <th>2</th>\n",
       "      <td>3722057.0</td>\n",
       "      <td>372.0</td>\n",
       "      <td>1912042.0</td>\n",
       "      <td>191.0</td>\n",
       "      <td>44.0</td>\n",
       "      <td>314.0</td>\n",
       "      <td>432.0</td>\n",
       "      <td>522.0</td>\n",
       "      <td>494.0</td>\n",
       "      <td>461.0</td>\n",
       "      <td>3721093</td>\n",
       "      <td>372</td>\n",
       "      <td>3551302</td>\n",
       "      <td>355</td>\n",
       "      <td>19</td>\n",
       "      <td>700</td>\n",
       "      <td>781</td>\n",
       "      <td>464</td>\n",
       "      <td>551</td>\n",
       "      <td>668</td>\n",
       "    </tr>\n",
       "    <tr>\n",
       "      <th>3</th>\n",
       "      <td>3212081.0</td>\n",
       "      <td>321.0</td>\n",
       "      <td>3212301.0</td>\n",
       "      <td>321.0</td>\n",
       "      <td>55.0</td>\n",
       "      <td>646.0</td>\n",
       "      <td>638.0</td>\n",
       "      <td>591.0</td>\n",
       "      <td>538.0</td>\n",
       "      <td>585.0</td>\n",
       "      <td>3321096</td>\n",
       "      <td>332</td>\n",
       "      <td>3551194</td>\n",
       "      <td>355</td>\n",
       "      <td>23</td>\n",
       "      <td>679</td>\n",
       "      <td>692</td>\n",
       "      <td>813</td>\n",
       "      <td>507</td>\n",
       "      <td>573</td>\n",
       "    </tr>\n",
       "    <tr>\n",
       "      <th>4</th>\n",
       "      <td>3812106.0</td>\n",
       "      <td>381.0</td>\n",
       "      <td>3852034.0</td>\n",
       "      <td>385.0</td>\n",
       "      <td>171.0</td>\n",
       "      <td>654.0</td>\n",
       "      <td>613.0</td>\n",
       "      <td>690.0</td>\n",
       "      <td>315.0</td>\n",
       "      <td>628.0</td>\n",
       "      <td>5211104</td>\n",
       "      <td>521</td>\n",
       "      <td>5211085</td>\n",
       "      <td>521</td>\n",
       "      <td>28</td>\n",
       "      <td>593</td>\n",
       "      <td>563</td>\n",
       "      <td>500</td>\n",
       "      <td>666</td>\n",
       "      <td>370</td>\n",
       "    </tr>\n",
       "    <tr>\n",
       "      <th>...</th>\n",
       "      <td>...</td>\n",
       "      <td>...</td>\n",
       "      <td>...</td>\n",
       "      <td>...</td>\n",
       "      <td>...</td>\n",
       "      <td>...</td>\n",
       "      <td>...</td>\n",
       "      <td>...</td>\n",
       "      <td>...</td>\n",
       "      <td>...</td>\n",
       "      <td>...</td>\n",
       "      <td>...</td>\n",
       "      <td>...</td>\n",
       "      <td>...</td>\n",
       "      <td>...</td>\n",
       "      <td>...</td>\n",
       "      <td>...</td>\n",
       "      <td>...</td>\n",
       "      <td>...</td>\n",
       "      <td>...</td>\n",
       "    </tr>\n",
       "    <tr>\n",
       "      <th>86565</th>\n",
       "      <td>NaN</td>\n",
       "      <td>NaN</td>\n",
       "      <td>NaN</td>\n",
       "      <td>NaN</td>\n",
       "      <td>NaN</td>\n",
       "      <td>NaN</td>\n",
       "      <td>NaN</td>\n",
       "      <td>NaN</td>\n",
       "      <td>NaN</td>\n",
       "      <td>NaN</td>\n",
       "      <td>1411161</td>\n",
       "      <td>141</td>\n",
       "      <td>1421147</td>\n",
       "      <td>142</td>\n",
       "      <td>344111</td>\n",
       "      <td>546</td>\n",
       "      <td>523</td>\n",
       "      <td>490</td>\n",
       "      <td>549</td>\n",
       "      <td>520</td>\n",
       "    </tr>\n",
       "    <tr>\n",
       "      <th>86566</th>\n",
       "      <td>NaN</td>\n",
       "      <td>NaN</td>\n",
       "      <td>NaN</td>\n",
       "      <td>NaN</td>\n",
       "      <td>NaN</td>\n",
       "      <td>NaN</td>\n",
       "      <td>NaN</td>\n",
       "      <td>NaN</td>\n",
       "      <td>NaN</td>\n",
       "      <td>NaN</td>\n",
       "      <td>3561262</td>\n",
       "      <td>356</td>\n",
       "      <td>3571055</td>\n",
       "      <td>357</td>\n",
       "      <td>344125</td>\n",
       "      <td>613</td>\n",
       "      <td>461</td>\n",
       "      <td>390</td>\n",
       "      <td>399</td>\n",
       "      <td>554</td>\n",
       "    </tr>\n",
       "    <tr>\n",
       "      <th>86567</th>\n",
       "      <td>NaN</td>\n",
       "      <td>NaN</td>\n",
       "      <td>NaN</td>\n",
       "      <td>NaN</td>\n",
       "      <td>NaN</td>\n",
       "      <td>NaN</td>\n",
       "      <td>NaN</td>\n",
       "      <td>NaN</td>\n",
       "      <td>NaN</td>\n",
       "      <td>NaN</td>\n",
       "      <td>3531182</td>\n",
       "      <td>353</td>\n",
       "      <td>3561022</td>\n",
       "      <td>356</td>\n",
       "      <td>344127</td>\n",
       "      <td>474</td>\n",
       "      <td>494</td>\n",
       "      <td>483</td>\n",
       "      <td>327</td>\n",
       "      <td>554</td>\n",
       "    </tr>\n",
       "    <tr>\n",
       "      <th>86568</th>\n",
       "      <td>NaN</td>\n",
       "      <td>NaN</td>\n",
       "      <td>NaN</td>\n",
       "      <td>NaN</td>\n",
       "      <td>NaN</td>\n",
       "      <td>NaN</td>\n",
       "      <td>NaN</td>\n",
       "      <td>NaN</td>\n",
       "      <td>NaN</td>\n",
       "      <td>NaN</td>\n",
       "      <td>1121094</td>\n",
       "      <td>112</td>\n",
       "      <td>1221095</td>\n",
       "      <td>122</td>\n",
       "      <td>344151</td>\n",
       "      <td>437</td>\n",
       "      <td>447</td>\n",
       "      <td>485</td>\n",
       "      <td>508</td>\n",
       "      <td>492</td>\n",
       "    </tr>\n",
       "    <tr>\n",
       "      <th>86569</th>\n",
       "      <td>NaN</td>\n",
       "      <td>NaN</td>\n",
       "      <td>NaN</td>\n",
       "      <td>NaN</td>\n",
       "      <td>NaN</td>\n",
       "      <td>NaN</td>\n",
       "      <td>NaN</td>\n",
       "      <td>NaN</td>\n",
       "      <td>NaN</td>\n",
       "      <td>NaN</td>\n",
       "      <td>1911286</td>\n",
       "      <td>191</td>\n",
       "      <td>1921056</td>\n",
       "      <td>192</td>\n",
       "      <td>344192</td>\n",
       "      <td>519</td>\n",
       "      <td>540</td>\n",
       "      <td>445</td>\n",
       "      <td>494</td>\n",
       "      <td>547</td>\n",
       "    </tr>\n",
       "  </tbody>\n",
       "</table>\n",
       "<p>86570 rows × 20 columns</p>\n",
       "</div>"
      ],
      "text/plain": [
       "       id_first_major_x  id_first_university_x  id_second_major_x  \\\n",
       "0             3322014.0                  332.0          3532154.0   \n",
       "1             3212057.0                  321.0          3322022.0   \n",
       "2             3722057.0                  372.0          1912042.0   \n",
       "3             3212081.0                  321.0          3212301.0   \n",
       "4             3812106.0                  381.0          3852034.0   \n",
       "...                 ...                    ...                ...   \n",
       "86565               NaN                    NaN                NaN   \n",
       "86566               NaN                    NaN                NaN   \n",
       "86567               NaN                    NaN                NaN   \n",
       "86568               NaN                    NaN                NaN   \n",
       "86569               NaN                    NaN                NaN   \n",
       "\n",
       "       id_second_university_x  id_user_x  Reading Compr. & Writing_x  \\\n",
       "0                       353.0       26.0                       679.0   \n",
       "1                       332.0       35.0                       710.0   \n",
       "2                       191.0       44.0                       314.0   \n",
       "3                       321.0       55.0                       646.0   \n",
       "4                       385.0      171.0                       654.0   \n",
       "...                       ...        ...                         ...   \n",
       "86565                     NaN        NaN                         NaN   \n",
       "86566                     NaN        NaN                         NaN   \n",
       "86567                     NaN        NaN                         NaN   \n",
       "86568                     NaN        NaN                         NaN   \n",
       "86569                     NaN        NaN                         NaN   \n",
       "\n",
       "       General Reasoning_x  Quantitative Skills_x  maths_x  \\\n",
       "0                    594.0                  643.0    686.0   \n",
       "1                    700.0                  810.0    656.0   \n",
       "2                    432.0                  522.0    494.0   \n",
       "3                    638.0                  591.0    538.0   \n",
       "4                    613.0                  690.0    315.0   \n",
       "...                    ...                    ...      ...   \n",
       "86565                  NaN                    NaN      NaN   \n",
       "86566                  NaN                    NaN      NaN   \n",
       "86567                  NaN                    NaN      NaN   \n",
       "86568                  NaN                    NaN      NaN   \n",
       "86569                  NaN                    NaN      NaN   \n",
       "\n",
       "       General Knowledge & Understanding_x  id_first_major_y  \\\n",
       "0                                    559.0           3321065   \n",
       "1                                    638.0           3211015   \n",
       "2                                    461.0           3721093   \n",
       "3                                    585.0           3321096   \n",
       "4                                    628.0           5211104   \n",
       "...                                    ...               ...   \n",
       "86565                                  NaN           1411161   \n",
       "86566                                  NaN           3561262   \n",
       "86567                                  NaN           3531182   \n",
       "86568                                  NaN           1121094   \n",
       "86569                                  NaN           1911286   \n",
       "\n",
       "       id_first_university_y  id_second_major_y  id_second_university_y  \\\n",
       "0                        332            3331187                     333   \n",
       "1                        321            3611066                     361   \n",
       "2                        372            3551302                     355   \n",
       "3                        332            3551194                     355   \n",
       "4                        521            5211085                     521   \n",
       "...                      ...                ...                     ...   \n",
       "86565                    141            1421147                     142   \n",
       "86566                    356            3571055                     357   \n",
       "86567                    353            3561022                     356   \n",
       "86568                    112            1221095                     122   \n",
       "86569                    191            1921056                     192   \n",
       "\n",
       "       id_user_y  Reading Compr. & Writing_y  General Reasoning_y  \\\n",
       "0              4                         400                  400   \n",
       "1             14                         678                  685   \n",
       "2             19                         700                  781   \n",
       "3             23                         679                  692   \n",
       "4             28                         593                  563   \n",
       "...          ...                         ...                  ...   \n",
       "86565     344111                         546                  523   \n",
       "86566     344125                         613                  461   \n",
       "86567     344127                         474                  494   \n",
       "86568     344151                         437                  447   \n",
       "86569     344192                         519                  540   \n",
       "\n",
       "       Quantitative Skills_y  maths_y  General Knowledge & Understanding_y  \n",
       "0                        400      400                                  400  \n",
       "1                        706      695                                  562  \n",
       "2                        464      551                                  668  \n",
       "3                        813      507                                  573  \n",
       "4                        500      666                                  370  \n",
       "...                      ...      ...                                  ...  \n",
       "86565                    490      549                                  520  \n",
       "86566                    390      399                                  554  \n",
       "86567                    483      327                                  554  \n",
       "86568                    485      508                                  492  \n",
       "86569                    445      494                                  547  \n",
       "\n",
       "[86570 rows x 20 columns]"
      ]
     },
     "execution_count": 31,
     "metadata": {},
     "output_type": "execute_result"
    }
   ],
   "source": [
    "pd.merge(hum_com, sci_com, left_index= True, right_index= True, how = \"outer\")"
   ]
  },
  {
   "cell_type": "code",
   "execution_count": 32,
   "id": "c4360d46",
   "metadata": {},
   "outputs": [
    {
     "data": {
      "text/plain": [
       "((61202, 10), (86570, 10))"
      ]
     },
     "execution_count": 32,
     "metadata": {},
     "output_type": "execute_result"
    }
   ],
   "source": [
    "hum_com.shape, sci_com.shape"
   ]
  },
  {
   "cell_type": "code",
   "execution_count": 33,
   "id": "780e558d",
   "metadata": {},
   "outputs": [],
   "source": [
    "# lets add the total score"
   ]
  },
  {
   "cell_type": "markdown",
   "id": "df2740f9",
   "metadata": {},
   "source": []
  },
  {
   "cell_type": "code",
   "execution_count": 34,
   "id": "750ea727",
   "metadata": {},
   "outputs": [
    {
     "data": {
      "text/html": [
       "<div>\n",
       "<style scoped>\n",
       "    .dataframe tbody tr th:only-of-type {\n",
       "        vertical-align: middle;\n",
       "    }\n",
       "\n",
       "    .dataframe tbody tr th {\n",
       "        vertical-align: top;\n",
       "    }\n",
       "\n",
       "    .dataframe thead th {\n",
       "        text-align: right;\n",
       "    }\n",
       "</style>\n",
       "<table border=\"1\" class=\"dataframe\">\n",
       "  <thead>\n",
       "    <tr style=\"text-align: right;\">\n",
       "      <th></th>\n",
       "      <th>id_first_major</th>\n",
       "      <th>id_first_university</th>\n",
       "      <th>id_second_major</th>\n",
       "      <th>id_second_university</th>\n",
       "      <th>id_user</th>\n",
       "      <th>Reading Compr. &amp; Writing</th>\n",
       "      <th>General Reasoning</th>\n",
       "      <th>Quantitative Skills</th>\n",
       "      <th>maths</th>\n",
       "      <th>General Knowledge &amp; Understanding</th>\n",
       "    </tr>\n",
       "  </thead>\n",
       "  <tbody>\n",
       "    <tr>\n",
       "      <th>0</th>\n",
       "      <td>3322014</td>\n",
       "      <td>332</td>\n",
       "      <td>3532154</td>\n",
       "      <td>353</td>\n",
       "      <td>26</td>\n",
       "      <td>679</td>\n",
       "      <td>594</td>\n",
       "      <td>643</td>\n",
       "      <td>686</td>\n",
       "      <td>559</td>\n",
       "    </tr>\n",
       "    <tr>\n",
       "      <th>1</th>\n",
       "      <td>3212057</td>\n",
       "      <td>321</td>\n",
       "      <td>3322022</td>\n",
       "      <td>332</td>\n",
       "      <td>35</td>\n",
       "      <td>710</td>\n",
       "      <td>700</td>\n",
       "      <td>810</td>\n",
       "      <td>656</td>\n",
       "      <td>638</td>\n",
       "    </tr>\n",
       "    <tr>\n",
       "      <th>2</th>\n",
       "      <td>3722057</td>\n",
       "      <td>372</td>\n",
       "      <td>1912042</td>\n",
       "      <td>191</td>\n",
       "      <td>44</td>\n",
       "      <td>314</td>\n",
       "      <td>432</td>\n",
       "      <td>522</td>\n",
       "      <td>494</td>\n",
       "      <td>461</td>\n",
       "    </tr>\n",
       "    <tr>\n",
       "      <th>3</th>\n",
       "      <td>3212081</td>\n",
       "      <td>321</td>\n",
       "      <td>3212301</td>\n",
       "      <td>321</td>\n",
       "      <td>55</td>\n",
       "      <td>646</td>\n",
       "      <td>638</td>\n",
       "      <td>591</td>\n",
       "      <td>538</td>\n",
       "      <td>585</td>\n",
       "    </tr>\n",
       "    <tr>\n",
       "      <th>4</th>\n",
       "      <td>3812106</td>\n",
       "      <td>381</td>\n",
       "      <td>3852034</td>\n",
       "      <td>385</td>\n",
       "      <td>171</td>\n",
       "      <td>654</td>\n",
       "      <td>613</td>\n",
       "      <td>690</td>\n",
       "      <td>315</td>\n",
       "      <td>628</td>\n",
       "    </tr>\n",
       "  </tbody>\n",
       "</table>\n",
       "</div>"
      ],
      "text/plain": [
       "   id_first_major  id_first_university  id_second_major  id_second_university  \\\n",
       "0         3322014                  332          3532154                   353   \n",
       "1         3212057                  321          3322022                   332   \n",
       "2         3722057                  372          1912042                   191   \n",
       "3         3212081                  321          3212301                   321   \n",
       "4         3812106                  381          3852034                   385   \n",
       "\n",
       "   id_user  Reading Compr. & Writing  General Reasoning  Quantitative Skills  \\\n",
       "0       26                       679                594                  643   \n",
       "1       35                       710                700                  810   \n",
       "2       44                       314                432                  522   \n",
       "3       55                       646                638                  591   \n",
       "4      171                       654                613                  690   \n",
       "\n",
       "   maths  General Knowledge & Understanding  \n",
       "0    686                                559  \n",
       "1    656                                638  \n",
       "2    494                                461  \n",
       "3    538                                585  \n",
       "4    315                                628  "
      ]
     },
     "execution_count": 34,
     "metadata": {},
     "output_type": "execute_result"
    }
   ],
   "source": [
    "# Lets analyze in terms of weighted average the possibility of gaining admission with humanity scores\n",
    "hum_com.head()"
   ]
  },
  {
   "cell_type": "code",
   "execution_count": 35,
   "id": "f0263695",
   "metadata": {},
   "outputs": [
    {
     "data": {
      "text/plain": [
       "id_first_major                       0\n",
       "id_first_university                  0\n",
       "id_second_major                      0\n",
       "id_second_university                 0\n",
       "id_user                              0\n",
       "Reading Compr. & Writing             0\n",
       "General Reasoning                    0\n",
       "Quantitative Skills                  0\n",
       "maths                                0\n",
       "General Knowledge & Understanding    0\n",
       "dtype: int64"
      ]
     },
     "execution_count": 35,
     "metadata": {},
     "output_type": "execute_result"
    }
   ],
   "source": [
    "# checking NaNs for humanity scores\n",
    "hum_com.isna().sum()"
   ]
  },
  {
   "cell_type": "code",
   "execution_count": 36,
   "id": "64121ee0",
   "metadata": {},
   "outputs": [
    {
     "data": {
      "text/html": [
       "<div>\n",
       "<style scoped>\n",
       "    .dataframe tbody tr th:only-of-type {\n",
       "        vertical-align: middle;\n",
       "    }\n",
       "\n",
       "    .dataframe tbody tr th {\n",
       "        vertical-align: top;\n",
       "    }\n",
       "\n",
       "    .dataframe thead th {\n",
       "        text-align: right;\n",
       "    }\n",
       "</style>\n",
       "<table border=\"1\" class=\"dataframe\">\n",
       "  <thead>\n",
       "    <tr style=\"text-align: right;\">\n",
       "      <th></th>\n",
       "      <th>id_first_major</th>\n",
       "      <th>id_first_university</th>\n",
       "      <th>id_second_major</th>\n",
       "      <th>id_second_university</th>\n",
       "      <th>id_user</th>\n",
       "      <th>Reading Compr. &amp; Writing</th>\n",
       "      <th>General Reasoning</th>\n",
       "      <th>Quantitative Skills</th>\n",
       "      <th>maths</th>\n",
       "      <th>General Knowledge &amp; Understanding</th>\n",
       "      <th>sum_humanities</th>\n",
       "    </tr>\n",
       "  </thead>\n",
       "  <tbody>\n",
       "    <tr>\n",
       "      <th>0</th>\n",
       "      <td>3322014</td>\n",
       "      <td>332</td>\n",
       "      <td>3532154</td>\n",
       "      <td>353</td>\n",
       "      <td>26</td>\n",
       "      <td>679</td>\n",
       "      <td>594</td>\n",
       "      <td>643</td>\n",
       "      <td>686</td>\n",
       "      <td>559</td>\n",
       "      <td>3161</td>\n",
       "    </tr>\n",
       "    <tr>\n",
       "      <th>1</th>\n",
       "      <td>3212057</td>\n",
       "      <td>321</td>\n",
       "      <td>3322022</td>\n",
       "      <td>332</td>\n",
       "      <td>35</td>\n",
       "      <td>710</td>\n",
       "      <td>700</td>\n",
       "      <td>810</td>\n",
       "      <td>656</td>\n",
       "      <td>638</td>\n",
       "      <td>3514</td>\n",
       "    </tr>\n",
       "    <tr>\n",
       "      <th>2</th>\n",
       "      <td>3722057</td>\n",
       "      <td>372</td>\n",
       "      <td>1912042</td>\n",
       "      <td>191</td>\n",
       "      <td>44</td>\n",
       "      <td>314</td>\n",
       "      <td>432</td>\n",
       "      <td>522</td>\n",
       "      <td>494</td>\n",
       "      <td>461</td>\n",
       "      <td>2223</td>\n",
       "    </tr>\n",
       "    <tr>\n",
       "      <th>3</th>\n",
       "      <td>3212081</td>\n",
       "      <td>321</td>\n",
       "      <td>3212301</td>\n",
       "      <td>321</td>\n",
       "      <td>55</td>\n",
       "      <td>646</td>\n",
       "      <td>638</td>\n",
       "      <td>591</td>\n",
       "      <td>538</td>\n",
       "      <td>585</td>\n",
       "      <td>2998</td>\n",
       "    </tr>\n",
       "    <tr>\n",
       "      <th>4</th>\n",
       "      <td>3812106</td>\n",
       "      <td>381</td>\n",
       "      <td>3852034</td>\n",
       "      <td>385</td>\n",
       "      <td>171</td>\n",
       "      <td>654</td>\n",
       "      <td>613</td>\n",
       "      <td>690</td>\n",
       "      <td>315</td>\n",
       "      <td>628</td>\n",
       "      <td>2900</td>\n",
       "    </tr>\n",
       "  </tbody>\n",
       "</table>\n",
       "</div>"
      ],
      "text/plain": [
       "   id_first_major  id_first_university  id_second_major  id_second_university  \\\n",
       "0         3322014                  332          3532154                   353   \n",
       "1         3212057                  321          3322022                   332   \n",
       "2         3722057                  372          1912042                   191   \n",
       "3         3212081                  321          3212301                   321   \n",
       "4         3812106                  381          3852034                   385   \n",
       "\n",
       "   id_user  Reading Compr. & Writing  General Reasoning  Quantitative Skills  \\\n",
       "0       26                       679                594                  643   \n",
       "1       35                       710                700                  810   \n",
       "2       44                       314                432                  522   \n",
       "3       55                       646                638                  591   \n",
       "4      171                       654                613                  690   \n",
       "\n",
       "   maths  General Knowledge & Understanding  sum_humanities  \n",
       "0    686                                559            3161  \n",
       "1    656                                638            3514  \n",
       "2    494                                461            2223  \n",
       "3    538                                585            2998  \n",
       "4    315                                628            2900  "
      ]
     },
     "execution_count": 36,
     "metadata": {},
     "output_type": "execute_result"
    }
   ],
   "source": [
    "hum_com['sum_humanities'] = hum_com.iloc[:, 5:].sum(axis = 1)\n",
    "hum_com.head()"
   ]
  },
  {
   "cell_type": "code",
   "execution_count": 37,
   "id": "0dbfafc3",
   "metadata": {},
   "outputs": [
    {
     "data": {
      "text/html": [
       "<div>\n",
       "<style scoped>\n",
       "    .dataframe tbody tr th:only-of-type {\n",
       "        vertical-align: middle;\n",
       "    }\n",
       "\n",
       "    .dataframe tbody tr th {\n",
       "        vertical-align: top;\n",
       "    }\n",
       "\n",
       "    .dataframe thead th {\n",
       "        text-align: right;\n",
       "    }\n",
       "</style>\n",
       "<table border=\"1\" class=\"dataframe\">\n",
       "  <thead>\n",
       "    <tr style=\"text-align: right;\">\n",
       "      <th></th>\n",
       "      <th>id_first_major</th>\n",
       "      <th>id_first_university</th>\n",
       "      <th>id_second_major</th>\n",
       "      <th>id_second_university</th>\n",
       "      <th>id_user</th>\n",
       "      <th>Reading Compr. &amp; Writing</th>\n",
       "      <th>General Reasoning</th>\n",
       "      <th>Quantitative Skills</th>\n",
       "      <th>maths</th>\n",
       "      <th>General Knowledge &amp; Understanding</th>\n",
       "      <th>sum_sciences</th>\n",
       "    </tr>\n",
       "  </thead>\n",
       "  <tbody>\n",
       "    <tr>\n",
       "      <th>0</th>\n",
       "      <td>3321065</td>\n",
       "      <td>332</td>\n",
       "      <td>3331187</td>\n",
       "      <td>333</td>\n",
       "      <td>4</td>\n",
       "      <td>400</td>\n",
       "      <td>400</td>\n",
       "      <td>400</td>\n",
       "      <td>400</td>\n",
       "      <td>400</td>\n",
       "      <td>2000</td>\n",
       "    </tr>\n",
       "    <tr>\n",
       "      <th>1</th>\n",
       "      <td>3211015</td>\n",
       "      <td>321</td>\n",
       "      <td>3611066</td>\n",
       "      <td>361</td>\n",
       "      <td>14</td>\n",
       "      <td>678</td>\n",
       "      <td>685</td>\n",
       "      <td>706</td>\n",
       "      <td>695</td>\n",
       "      <td>562</td>\n",
       "      <td>3326</td>\n",
       "    </tr>\n",
       "    <tr>\n",
       "      <th>2</th>\n",
       "      <td>3721093</td>\n",
       "      <td>372</td>\n",
       "      <td>3551302</td>\n",
       "      <td>355</td>\n",
       "      <td>19</td>\n",
       "      <td>700</td>\n",
       "      <td>781</td>\n",
       "      <td>464</td>\n",
       "      <td>551</td>\n",
       "      <td>668</td>\n",
       "      <td>3164</td>\n",
       "    </tr>\n",
       "    <tr>\n",
       "      <th>3</th>\n",
       "      <td>3321096</td>\n",
       "      <td>332</td>\n",
       "      <td>3551194</td>\n",
       "      <td>355</td>\n",
       "      <td>23</td>\n",
       "      <td>679</td>\n",
       "      <td>692</td>\n",
       "      <td>813</td>\n",
       "      <td>507</td>\n",
       "      <td>573</td>\n",
       "      <td>3264</td>\n",
       "    </tr>\n",
       "    <tr>\n",
       "      <th>4</th>\n",
       "      <td>5211104</td>\n",
       "      <td>521</td>\n",
       "      <td>5211085</td>\n",
       "      <td>521</td>\n",
       "      <td>28</td>\n",
       "      <td>593</td>\n",
       "      <td>563</td>\n",
       "      <td>500</td>\n",
       "      <td>666</td>\n",
       "      <td>370</td>\n",
       "      <td>2692</td>\n",
       "    </tr>\n",
       "  </tbody>\n",
       "</table>\n",
       "</div>"
      ],
      "text/plain": [
       "   id_first_major  id_first_university  id_second_major  id_second_university  \\\n",
       "0         3321065                  332          3331187                   333   \n",
       "1         3211015                  321          3611066                   361   \n",
       "2         3721093                  372          3551302                   355   \n",
       "3         3321096                  332          3551194                   355   \n",
       "4         5211104                  521          5211085                   521   \n",
       "\n",
       "   id_user  Reading Compr. & Writing  General Reasoning  Quantitative Skills  \\\n",
       "0        4                       400                400                  400   \n",
       "1       14                       678                685                  706   \n",
       "2       19                       700                781                  464   \n",
       "3       23                       679                692                  813   \n",
       "4       28                       593                563                  500   \n",
       "\n",
       "   maths  General Knowledge & Understanding  sum_sciences  \n",
       "0    400                                400          2000  \n",
       "1    695                                562          3326  \n",
       "2    551                                668          3164  \n",
       "3    507                                573          3264  \n",
       "4    666                                370          2692  "
      ]
     },
     "execution_count": 37,
     "metadata": {},
     "output_type": "execute_result"
    }
   ],
   "source": [
    "sci_com['sum_sciences'] = sci_com.iloc[:, 5:].sum(axis = 1)\n",
    "sci_com.head()"
   ]
  },
  {
   "cell_type": "markdown",
   "id": "bbaa444d",
   "metadata": {},
   "source": [
    "# Finding the upper , lower and mid scores for both exam categories"
   ]
  },
  {
   "cell_type": "code",
   "execution_count": 38,
   "id": "95b1a17a",
   "metadata": {},
   "outputs": [
    {
     "data": {
      "text/html": [
       "<div>\n",
       "<style scoped>\n",
       "    .dataframe tbody tr th:only-of-type {\n",
       "        vertical-align: middle;\n",
       "    }\n",
       "\n",
       "    .dataframe tbody tr th {\n",
       "        vertical-align: top;\n",
       "    }\n",
       "\n",
       "    .dataframe thead th {\n",
       "        text-align: right;\n",
       "    }\n",
       "</style>\n",
       "<table border=\"1\" class=\"dataframe\">\n",
       "  <thead>\n",
       "    <tr style=\"text-align: right;\">\n",
       "      <th></th>\n",
       "      <th>sum_humanities</th>\n",
       "    </tr>\n",
       "  </thead>\n",
       "  <tbody>\n",
       "    <tr>\n",
       "      <th>count</th>\n",
       "      <td>61202.000000</td>\n",
       "    </tr>\n",
       "    <tr>\n",
       "      <th>mean</th>\n",
       "      <td>2674.256070</td>\n",
       "    </tr>\n",
       "    <tr>\n",
       "      <th>std</th>\n",
       "      <td>300.995668</td>\n",
       "    </tr>\n",
       "    <tr>\n",
       "      <th>min</th>\n",
       "      <td>1496.000000</td>\n",
       "    </tr>\n",
       "    <tr>\n",
       "      <th>25%</th>\n",
       "      <td>2470.000000</td>\n",
       "    </tr>\n",
       "    <tr>\n",
       "      <th>50%</th>\n",
       "      <td>2664.000000</td>\n",
       "    </tr>\n",
       "    <tr>\n",
       "      <th>75%</th>\n",
       "      <td>2871.000000</td>\n",
       "    </tr>\n",
       "    <tr>\n",
       "      <th>max</th>\n",
       "      <td>4031.000000</td>\n",
       "    </tr>\n",
       "  </tbody>\n",
       "</table>\n",
       "</div>"
      ],
      "text/plain": [
       "       sum_humanities\n",
       "count    61202.000000\n",
       "mean      2674.256070\n",
       "std        300.995668\n",
       "min       1496.000000\n",
       "25%       2470.000000\n",
       "50%       2664.000000\n",
       "75%       2871.000000\n",
       "max       4031.000000"
      ]
     },
     "execution_count": 38,
     "metadata": {},
     "output_type": "execute_result"
    }
   ],
   "source": [
    "hum_com.sum_humanities.describe().to_frame()"
   ]
  },
  {
   "cell_type": "code",
   "execution_count": 39,
   "id": "ea5ffb08",
   "metadata": {},
   "outputs": [
    {
     "data": {
      "text/plain": [
       "count    86570.000000\n",
       "mean      2778.974575\n",
       "std        317.390939\n",
       "min       1500.000000\n",
       "25%       2559.000000\n",
       "50%       2774.000000\n",
       "75%       2993.000000\n",
       "max       4350.000000\n",
       "Name: sum_sciences, dtype: float64"
      ]
     },
     "execution_count": 39,
     "metadata": {},
     "output_type": "execute_result"
    }
   ],
   "source": [
    "sci_com.sum_sciences.describe()"
   ]
  },
  {
   "cell_type": "code",
   "execution_count": 40,
   "id": "d250ff7e",
   "metadata": {},
   "outputs": [
    {
     "data": {
      "text/plain": [
       "Text(0.5, 1.0, 'humanities examination')"
      ]
     },
     "execution_count": 40,
     "metadata": {},
     "output_type": "execute_result"
    },
    {
     "data": {
      "image/png": "[encoded data removed]",
      "text/plain": [
       "<Figure size 1440x360 with 2 Axes>"
      ]
     },
     "metadata": {
      "needs_background": "light"
     },
     "output_type": "display_data"
    }
   ],
   "source": [
    "fig,(ax1, ax2) = plt.subplots(figsize = (20,5), nrows=1, ncols=2)\n",
    "sns.lineplot(data = sci_com.sum_sciences.describe(), ax= ax1, color = \"red\", linewidth =4)\n",
    "sns.lineplot( data = hum_com.sum_humanities.describe(), ax= ax2, color = \"indigo\", linewidth = 4)\n",
    "ax1.set_title(\"science examination\")\n",
    "ax2.set_title(\"humanities examination\")"
   ]
  },
  {
   "cell_type": "code",
   "execution_count": 53,
   "id": "7f0a2a39",
   "metadata": {},
   "outputs": [
    {
     "data": {
      "application/vnd.plotly.v1+json": {
       "config": {
        "plotlyServerURL": "https://plot.ly"
       },
       "data": [
        {
         "hovertemplate": "variable=sum_sciences<br>index=%{x}<br>value=%{y}<extra></extra>",
         "legendgroup": "sum_sciences",
         "line": {
          "color": "#636efa",
          "dash": "solid"
         },
         "marker": {
          "symbol": "circle"
         },
         "mode": "lines",
         "name": "sum_sciences",
         "orientation": "v",
         "showlegend": true,
         "type": "scatter",
         "x": [
          "count",
          "mean",
          "std",
          "min",
          "25%",
          "50%",
          "75%",
          "max"
         ],
         "xaxis": "x",
         "y": [
          86570,
          2778.974575488044,
          317.3909388125291,
          1500,
          2559,
          2774,
          2993,
          4350
         ],
         "yaxis": "y"
        }
       ],
       "layout": {
        "legend": {
         "title": {
          "text": "variable"
         },
         "tracegroupgap": 0
        },
        "margin": {
         "t": 60
        },
        "template": {
         "data": {
          "bar": [
           {
            "error_x": {
             "color": "#2a3f5f"
            },
            "error_y": {
             "color": "#2a3f5f"
            },
            "marker": {
             "line": {
              "color": "#E5ECF6",
              "width": 0.5
             },
             "pattern": {
              "fillmode": "overlay",
              "size": 10,
              "solidity": 0.2
             }
            },
            "type": "bar"
           }
          ],
          "barpolar": [
           {
            "marker": {
             "line": {
              "color": "#E5ECF6",
              "width": 0.5
             },
             "pattern": {
              "fillmode": "overlay",
              "size": 10,
              "solidity": 0.2
             }
            },
            "type": "barpolar"
           }
          ],
          "carpet": [
           {
            "aaxis": {
             "endlinecolor": "#2a3f5f",
             "gridcolor": "white",
             "linecolor": "white",
             "minorgridcolor": "white",
             "startlinecolor": "#2a3f5f"
            },
            "baxis": {
             "endlinecolor": "#2a3f5f",
             "gridcolor": "white",
             "linecolor": "white",
             "minorgridcolor": "white",
             "startlinecolor": "#2a3f5f"
            },
            "type": "carpet"
           }
          ],
          "choropleth": [
           {
            "colorbar": {
             "outlinewidth": 0,
             "ticks": ""
            },
            "type": "choropleth"
           }
          ],
          "contour": [
           {
            "colorbar": {
             "outlinewidth": 0,
             "ticks": ""
            },
            "colorscale": [
             [
              0,
              "#0d0887"
             ],
             [
              0.1111111111111111,
              "#46039f"
             ],
             [
              0.2222222222222222,
              "#7201a8"
             ],
             [
              0.3333333333333333,
              "#9c179e"
             ],
             [
              0.4444444444444444,
              "#bd3786"
             ],
             [
              0.5555555555555556,
              "#d8576b"
             ],
             [
              0.6666666666666666,
              "#ed7953"
             ],
             [
              0.7777777777777778,
              "#fb9f3a"
             ],
             [
              0.8888888888888888,
              "#fdca26"
             ],
             [
              1,
              "#f0f921"
             ]
            ],
            "type": "contour"
           }
          ],
          "contourcarpet": [
           {
            "colorbar": {
             "outlinewidth": 0,
             "ticks": ""
            },
            "type": "contourcarpet"
           }
          ],
          "heatmap": [
           {
            "colorbar": {
             "outlinewidth": 0,
             "ticks": ""
            },
            "colorscale": [
             [
              0,
              "#0d0887"
             ],
             [
              0.1111111111111111,
              "#46039f"
             ],
             [
              0.2222222222222222,
              "#7201a8"
             ],
             [
              0.3333333333333333,
              "#9c179e"
             ],
             [
              0.4444444444444444,
              "#bd3786"
             ],
             [
              0.5555555555555556,
              "#d8576b"
             ],
             [
              0.6666666666666666,
              "#ed7953"
             ],
             [
              0.7777777777777778,
              "#fb9f3a"
             ],
             [
              0.8888888888888888,
              "#fdca26"
             ],
             [
              1,
              "#f0f921"
             ]
            ],
            "type": "heatmap"
           }
          ],
          "heatmapgl": [
           {
            "colorbar": {
             "outlinewidth": 0,
             "ticks": ""
            },
            "colorscale": [
             [
              0,
              "#0d0887"
             ],
             [
              0.1111111111111111,
              "#46039f"
             ],
             [
              0.2222222222222222,
              "#7201a8"
             ],
             [
              0.3333333333333333,
              "#9c179e"
             ],
             [
              0.4444444444444444,
              "#bd3786"
             ],
             [
              0.5555555555555556,
              "#d8576b"
             ],
             [
              0.6666666666666666,
              "#ed7953"
             ],
             [
              0.7777777777777778,
              "#fb9f3a"
             ],
             [
              0.8888888888888888,
              "#fdca26"
             ],
             [
              1,
              "#f0f921"
             ]
            ],
            "type": "heatmapgl"
           }
          ],
          "histogram": [
           {
            "marker": {
             "pattern": {
              "fillmode": "overlay",
              "size": 10,
              "solidity": 0.2
             }
            },
            "type": "histogram"
           }
          ],
          "histogram2d": [
           {
            "colorbar": {
             "outlinewidth": 0,
             "ticks": ""
            },
            "colorscale": [
             [
              0,
              "#0d0887"
             ],
             [
              0.1111111111111111,
              "#46039f"
             ],
             [
              0.2222222222222222,
              "#7201a8"
             ],
             [
              0.3333333333333333,
              "#9c179e"
             ],
             [
              0.4444444444444444,
              "#bd3786"
             ],
             [
              0.5555555555555556,
              "#d8576b"
             ],
             [
              0.6666666666666666,
              "#ed7953"
             ],
             [
              0.7777777777777778,
              "#fb9f3a"
             ],
             [
              0.8888888888888888,
              "#fdca26"
             ],
             [
              1,
              "#f0f921"
             ]
            ],
            "type": "histogram2d"
           }
          ],
          "histogram2dcontour": [
           {
            "colorbar": {
             "outlinewidth": 0,
             "ticks": ""
            },
            "colorscale": [
             [
              0,
              "#0d0887"
             ],
             [
              0.1111111111111111,
              "#46039f"
             ],
             [
              0.2222222222222222,
              "#7201a8"
             ],
             [
              0.3333333333333333,
              "#9c179e"
             ],
             [
              0.4444444444444444,
              "#bd3786"
             ],
             [
              0.5555555555555556,
              "#d8576b"
             ],
             [
              0.6666666666666666,
              "#ed7953"
             ],
             [
              0.7777777777777778,
              "#fb9f3a"
             ],
             [
              0.8888888888888888,
              "#fdca26"
             ],
             [
              1,
              "#f0f921"
             ]
            ],
            "type": "histogram2dcontour"
           }
          ],
          "mesh3d": [
           {
            "colorbar": {
             "outlinewidth": 0,
             "ticks": ""
            },
            "type": "mesh3d"
           }
          ],
          "parcoords": [
           {
            "line": {
             "colorbar": {
              "outlinewidth": 0,
              "ticks": ""
             }
            },
            "type": "parcoords"
           }
          ],
          "pie": [
           {
            "automargin": true,
            "type": "pie"
           }
          ],
          "scatter": [
           {
            "fillpattern": {
             "fillmode": "overlay",
             "size": 10,
             "solidity": 0.2
            },
            "type": "scatter"
           }
          ],
          "scatter3d": [
           {
            "line": {
             "colorbar": {
              "outlinewidth": 0,
              "ticks": ""
             }
            },
            "marker": {
             "colorbar": {
              "outlinewidth": 0,
              "ticks": ""
             }
            },
            "type": "scatter3d"
           }
          ],
          "scattercarpet": [
           {
            "marker": {
             "colorbar": {
              "outlinewidth": 0,
              "ticks": ""
             }
            },
            "type": "scattercarpet"
           }
          ],
          "scattergeo": [
           {
            "marker": {
             "colorbar": {
              "outlinewidth": 0,
              "ticks": ""
             }
            },
            "type": "scattergeo"
           }
          ],
          "scattergl": [
           {
            "marker": {
             "colorbar": {
              "outlinewidth": 0,
              "ticks": ""
             }
            },
            "type": "scattergl"
           }
          ],
          "scattermapbox": [
           {
            "marker": {
             "colorbar": {
              "outlinewidth": 0,
              "ticks": ""
             }
            },
            "type": "scattermapbox"
           }
          ],
          "scatterpolar": [
           {
            "marker": {
             "colorbar": {
              "outlinewidth": 0,
              "ticks": ""
             }
            },
            "type": "scatterpolar"
           }
          ],
          "scatterpolargl": [
           {
            "marker": {
             "colorbar": {
              "outlinewidth": 0,
              "ticks": ""
             }
            },
            "type": "scatterpolargl"
           }
          ],
          "scatterternary": [
           {
            "marker": {
             "colorbar": {
              "outlinewidth": 0,
              "ticks": ""
             }
            },
            "type": "scatterternary"
           }
          ],
          "surface": [
           {
            "colorbar": {
             "outlinewidth": 0,
             "ticks": ""
            },
            "colorscale": [
             [
              0,
              "#0d0887"
             ],
             [
              0.1111111111111111,
              "#46039f"
             ],
             [
              0.2222222222222222,
              "#7201a8"
             ],
             [
              0.3333333333333333,
              "#9c179e"
             ],
             [
              0.4444444444444444,
              "#bd3786"
             ],
             [
              0.5555555555555556,
              "#d8576b"
             ],
             [
              0.6666666666666666,
              "#ed7953"
             ],
             [
              0.7777777777777778,
              "#fb9f3a"
             ],
             [
              0.8888888888888888,
              "#fdca26"
             ],
             [
              1,
              "#f0f921"
             ]
            ],
            "type": "surface"
           }
          ],
          "table": [
           {
            "cells": {
             "fill": {
              "color": "#EBF0F8"
             },
             "line": {
              "color": "white"
             }
            },
            "header": {
             "fill": {
              "color": "#C8D4E3"
             },
             "line": {
              "color": "white"
             }
            },
            "type": "table"
           }
          ]
         },
         "layout": {
          "annotationdefaults": {
           "arrowcolor": "#2a3f5f",
           "arrowhead": 0,
           "arrowwidth": 1
          },
          "autotypenumbers": "strict",
          "coloraxis": {
           "colorbar": {
            "outlinewidth": 0,
            "ticks": ""
           }
          },
          "colorscale": {
           "diverging": [
            [
             0,
             "#8e0152"
            ],
            [
             0.1,
             "#c51b7d"
            ],
            [
             0.2,
             "#de77ae"
            ],
            [
             0.3,
             "#f1b6da"
            ],
            [
             0.4,
             "#fde0ef"
            ],
            [
             0.5,
             "#f7f7f7"
            ],
            [
             0.6,
             "#e6f5d0"
            ],
            [
             0.7,
             "#b8e186"
            ],
            [
             0.8,
             "#7fbc41"
            ],
            [
             0.9,
             "#4d9221"
            ],
            [
             1,
             "#276419"
            ]
           ],
           "sequential": [
            [
             0,
             "#0d0887"
            ],
            [
             0.1111111111111111,
             "#46039f"
            ],
            [
             0.2222222222222222,
             "#7201a8"
            ],
            [
             0.3333333333333333,
             "#9c179e"
            ],
            [
             0.4444444444444444,
             "#bd3786"
            ],
            [
             0.5555555555555556,
             "#d8576b"
            ],
            [
             0.6666666666666666,
             "#ed7953"
            ],
            [
             0.7777777777777778,
             "#fb9f3a"
            ],
            [
             0.8888888888888888,
             "#fdca26"
            ],
            [
             1,
             "#f0f921"
            ]
           ],
           "sequentialminus": [
            [
             0,
             "#0d0887"
            ],
            [
             0.1111111111111111,
             "#46039f"
            ],
            [
             0.2222222222222222,
             "#7201a8"
            ],
            [
             0.3333333333333333,
             "#9c179e"
            ],
            [
             0.4444444444444444,
             "#bd3786"
            ],
            [
             0.5555555555555556,
             "#d8576b"
            ],
            [
             0.6666666666666666,
             "#ed7953"
            ],
            [
             0.7777777777777778,
             "#fb9f3a"
            ],
            [
             0.8888888888888888,
             "#fdca26"
            ],
            [
             1,
             "#f0f921"
            ]
           ]
          },
          "colorway": [
           "#636efa",
           "#EF553B",
           "#00cc96",
           "#ab63fa",
           "#FFA15A",
           "#19d3f3",
           "#FF6692",
           "#B6E880",
           "#FF97FF",
           "#FECB52"
          ],
          "font": {
           "color": "#2a3f5f"
          },
          "geo": {
           "bgcolor": "white",
           "lakecolor": "white",
           "landcolor": "#E5ECF6",
           "showlakes": true,
           "showland": true,
           "subunitcolor": "white"
          },
          "hoverlabel": {
           "align": "left"
          },
          "hovermode": "closest",
          "mapbox": {
           "style": "light"
          },
          "paper_bgcolor": "white",
          "plot_bgcolor": "#E5ECF6",
          "polar": {
           "angularaxis": {
            "gridcolor": "white",
            "linecolor": "white",
            "ticks": ""
           },
           "bgcolor": "#E5ECF6",
           "radialaxis": {
            "gridcolor": "white",
            "linecolor": "white",
            "ticks": ""
           }
          },
          "scene": {
           "xaxis": {
            "backgroundcolor": "#E5ECF6",
            "gridcolor": "white",
            "gridwidth": 2,
            "linecolor": "white",
            "showbackground": true,
            "ticks": "",
            "zerolinecolor": "white"
           },
           "yaxis": {
            "backgroundcolor": "#E5ECF6",
            "gridcolor": "white",
            "gridwidth": 2,
            "linecolor": "white",
            "showbackground": true,
            "ticks": "",
            "zerolinecolor": "white"
           },
           "zaxis": {
            "backgroundcolor": "#E5ECF6",
            "gridcolor": "white",
            "gridwidth": 2,
            "linecolor": "white",
            "showbackground": true,
            "ticks": "",
            "zerolinecolor": "white"
           }
          },
          "shapedefaults": {
           "line": {
            "color": "#2a3f5f"
           }
          },
          "ternary": {
           "aaxis": {
            "gridcolor": "white",
            "linecolor": "white",
            "ticks": ""
           },
           "baxis": {
            "gridcolor": "white",
            "linecolor": "white",
            "ticks": ""
           },
           "bgcolor": "#E5ECF6",
           "caxis": {
            "gridcolor": "white",
            "linecolor": "white",
            "ticks": ""
           }
          },
          "title": {
           "x": 0.05
          },
          "xaxis": {
           "automargin": true,
           "gridcolor": "white",
           "linecolor": "white",
           "ticks": "",
           "title": {
            "standoff": 15
           },
           "zerolinecolor": "white",
           "zerolinewidth": 2
          },
          "yaxis": {
           "automargin": true,
           "gridcolor": "white",
           "linecolor": "white",
           "ticks": "",
           "title": {
            "standoff": 15
           },
           "zerolinecolor": "white",
           "zerolinewidth": 2
          }
         }
        },
        "xaxis": {
         "anchor": "y",
         "domain": [
          0,
          1
         ],
         "title": {
          "text": "index"
         }
        },
        "yaxis": {
         "anchor": "x",
         "domain": [
          0,
          1
         ],
         "title": {
          "text": "value"
         }
        }
       }
      }
     },
     "metadata": {},
     "output_type": "display_data"
    }
   ],
   "source": [
    "fig = px.line(sci_com.sum_sciences.describe())\n",
    "fig.show()"
   ]
  },
  {
   "cell_type": "markdown",
   "id": "17251fbd",
   "metadata": {},
   "source": [
    "# Lets categorize the student scores by thoese within these ranges - starting with Humanity\n",
    "\n"
   ]
  },
  {
   "cell_type": "code",
   "execution_count": null,
   "id": "a6504dff",
   "metadata": {},
   "outputs": [],
   "source": []
  }
 ],
 "metadata": {
  "kernelspec": {
   "display_name": "Python 3.8.13 ('ML')",
   "language": "python",
   "name": "python3"
  },
  "language_info": {
   "codemirror_mode": {
    "name": "ipython",
    "version": 3
   },
   "file_extension": ".py",
   "mimetype": "text/x-python",
   "name": "python",
   "nbconvert_exporter": "python",
   "pygments_lexer": "ipython3",
   "version": "3.8.13"
  },
  "vscode": {
   "interpreter": {
    "hash": "69d10fa7f6cd2c65a86bd0308e6efef0b156b78481545c3b04da7b2b4fce6db5"
   }
  }
 },
 "nbformat": 4,
 "nbformat_minor": 5
}
